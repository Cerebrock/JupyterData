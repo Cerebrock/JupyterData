{
  "nbformat": 4,
  "nbformat_minor": 0,
  "metadata": {
    "colab": {
      "name": "Solution_PRACTICA_INDEPENDIENTE_Scraping.ipynb",
      "version": "0.3.2",
      "provenance": [],
      "collapsed_sections": []
    },
    "kernelspec": {
      "display_name": "Python 3",
      "language": "python",
      "name": "python3"
    }
  },
  "cells": [
    {
      "metadata": {
        "id": "wZvXQ_ph982n",
        "colab_type": "text"
      },
      "cell_type": "markdown",
      "source": [
        "# PRACTICA INDEPENDIENTE: Scraping"
      ]
    },
    {
      "metadata": {
        "id": "DsEbbjJu982o",
        "colab_type": "text"
      },
      "cell_type": "markdown",
      "source": [
        "## Introducción\n",
        "\n",
        "El objetivo de esta práctica es entender el uso del comando `requests`. Para eso te pedimos que uses requests para descargar los pdfs de esta página:\n",
        "\n",
        "https://github.com/jdwittenauer/ipython-notebooks/tree/master/exercises/ML\n",
        "\n",
        "Puede ser útil (como de costumbre) pensar en encapsular el proceso en una función."
      ]
    },
    {
      "metadata": {
        "id": "3xrgZGrl982p",
        "colab_type": "text"
      },
      "cell_type": "markdown",
      "source": [
        "## Descargando archivos usando `requests` "
      ]
    },
    {
      "metadata": {
        "id": "78kQqTvo982q",
        "colab_type": "text"
      },
      "cell_type": "markdown",
      "source": [
        "### Importa los paquetes a usar"
      ]
    },
    {
      "metadata": {
        "id": "rH4gv-3u982q",
        "colab_type": "code",
        "colab": {}
      },
      "cell_type": "code",
      "source": [
        "import requests as rq\n",
        "import re"
      ],
      "execution_count": 0,
      "outputs": []
    },
    {
      "metadata": {
        "id": "i7TSh4nt9822",
        "colab_type": "text"
      },
      "cell_type": "markdown",
      "source": [
        "### Armá un script o una función para hacer la descarga del sitio"
      ]
    },
    {
      "metadata": {
        "id": "WQzSNTd99823",
        "colab_type": "code",
        "colab": {}
      },
      "cell_type": "code",
      "source": [
        "def get_pdfs(url, path):\n",
        "    content = rq.get(url).text\n",
        "    pattern = r'\\/(.+?pdf)'\n",
        "    #cambio para descargar\n",
        "    urls = [r'https://github.com/' + re.sub(r'/blob/', r'/raw/', url_) for url_ in re.findall(pattern, content)]\n",
        "    for url_ in urls:\n",
        "        pdf = rq.get(url_).content\n",
        "        autor = url_.split('/')[3]\n",
        "        nombrePdf = url_.split('/')[-1]\n",
        "        file = '{} {}'.format(autor, nombrePdf)\n",
        "        print(file)\n",
        "        with open(file, 'wb') as out:\n",
        "            out.write(pdf)\n",
        "    return None"
      ],
      "execution_count": 0,
      "outputs": []
    },
    {
      "metadata": {
        "id": "pHJI4epd9826",
        "colab_type": "code",
        "outputId": "14e85742-978e-4be7-9175-ef1f21da7c35",
        "colab": {
          "base_uri": "https://localhost:8080/",
          "height": 159
        }
      },
      "cell_type": "code",
      "source": [
        "get_pdfs(url = r'https://github.com/jdwittenauer/ipython-notebooks/tree/master/exercises/ML', path = r'D:\\Matias\\PDFs Ciencia')"
      ],
      "execution_count": 0,
      "outputs": [
        {
          "output_type": "stream",
          "text": [
            "jdwittenauer ex1.pdf\n",
            "jdwittenauer ex2.pdf\n",
            "jdwittenauer ex3.pdf\n",
            "jdwittenauer ex4.pdf\n",
            "jdwittenauer ex5.pdf\n",
            "jdwittenauer ex6.pdf\n",
            "jdwittenauer ex7.pdf\n",
            "jdwittenauer ex8.pdf\n"
          ],
          "name": "stdout"
        }
      ]
    },
    {
      "metadata": {
        "id": "keJ2vZLsg-zC",
        "colab_type": "text"
      },
      "cell_type": "markdown",
      "source": [
        "## BONUS:\n",
        "\n",
        "Hacer una función que recolecte DOIS (código identificador de artículos científicos) o abstracts de:\n",
        "\n",
        "- https://www.ncbi.nlm.nih.gov/pubmed/\n",
        "\n",
        "Hacé una busqueda y entrá a un paper como ejemplo. \n",
        "Se te ocurre una manera sistemática de hacerlo?\n"
      ]
    },
    {
      "metadata": {
        "id": "K7hm8a5Dgx8w",
        "colab_type": "code",
        "colab": {}
      },
      "cell_type": "code",
      "source": [
        "def get_doi_pubmed(n):\n",
        "    '''Used to search for papers in a (n += 1) kinda fashion'''\n",
        "    URL = 'https://www.ncbi.nlm.nih.gov/pubmed/?term=' + n\n",
        "    response = requests.get(URL)\n",
        "    doi = re.search(rb'(doi\\.org.+?)\"', response.content).group(1)\n",
        "    return doi.decode()"
      ],
      "execution_count": 0,
      "outputs": []
    },
    {
      "metadata": {
        "id": "D7v4xSz4im7a",
        "colab_type": "code",
        "colab": {}
      },
      "cell_type": "code",
      "source": [
        "from time import sleep\n",
        "\n",
        "dois = []\n",
        "for i in range(500, 1000):\n",
        "  dois.append(get_doi_pubmed(str(i)))\n",
        "  sleep(2)"
      ],
      "execution_count": 0,
      "outputs": []
    }
  ]
}