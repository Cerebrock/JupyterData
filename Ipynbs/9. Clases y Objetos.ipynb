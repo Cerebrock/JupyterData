{
 "cells": [
  {
   "cell_type": "raw",
   "metadata": {},
   "source": [
    "En esta clase verémos:\n",
    "    \n",
    "    Objetos\n",
    "    Uso de la palabra clave class\n",
    "    Creación de atributos de clase\n",
    "    Creación de métodos en una clase\n",
    "    Aprendiendo acerca de la herencia\n",
    "    Aprender sobre métodos especiales para las clases"
   ]
  },
  {
   "cell_type": "raw",
   "metadata": {},
   "source": [
    "Un ejemplo de función en Python?"
   ]
  },
  {
   "cell_type": "raw",
   "metadata": {},
   "source": [
    "En Python TODO es un objeto!"
   ]
  },
  {
   "cell_type": "code",
   "execution_count": 4,
   "metadata": {
    "collapsed": false
   },
   "outputs": [
    {
     "name": "stdout",
     "output_type": "stream",
     "text": [
      "<class 'int'>\n",
      "<class 'list'>\n",
      "<class 'tuple'>\n",
      "<class 'dict'>\n"
     ]
    }
   ],
   "source": [
    "print(type(1))\n",
    "print(type([]))\n",
    "print(type(()))\n",
    "print(type({}))"
   ]
  },
  {
   "cell_type": "markdown",
   "metadata": {},
   "source": [
    "## Terminología de clases y objetos"
   ]
  },
  {
   "cell_type": "markdown",
   "metadata": {},
   "source": [
    "Una **clase** es un prototipo de objeto, que engloba atributos que poseen todos los objetos de esa clase. Los atributos pueden ser datos como variables de clase y de instancia, y métodos (funciones). Se acceden con un punto."
   ]
  },
  {
   "cell_type": "markdown",
   "metadata": {},
   "source": [
    "Una **instancia** es un objeto en particular que pertenece a una clase."
   ]
  },
  {
   "cell_type": "markdown",
   "metadata": {},
   "source": [
    "Una variable de clase o **class variable**  es un atributo compartido por todas las instancias de la clase. Se definen dentro de una clase pero fuera de un método. "
   ]
  },
  {
   "cell_type": "markdown",
   "metadata": {},
   "source": [
    "La **herencia** es la transferencia de atributos de una clase a otra clase"
   ]
  },
  {
   "cell_type": "markdown",
   "metadata": {},
   "source": [
    "Un **método** es una función contenida dentro de un objeto."
   ]
  },
  {
   "cell_type": "markdown",
   "metadata": {},
   "source": [
    "Un **objeto** es una instancia única de una estructura definida por su clase. Posee de atributos variables de clase, de instancia y métodos."
   ]
  },
  {
   "cell_type": "code",
   "execution_count": 35,
   "metadata": {
    "collapsed": false
   },
   "outputs": [
    {
     "name": "stdout",
     "output_type": "stream",
     "text": [
      "<class '__main__.Ejemplo'>\n"
     ]
    }
   ],
   "source": [
    "#La sintáxis es:\n",
    "\n",
    "class Ejemplo:\n",
    "    pass\n",
    "\n",
    "# Instancio la clase\n",
    "x = Ejemplo()\n",
    "\n",
    "print(type(x))"
   ]
  },
  {
   "cell_type": "raw",
   "metadata": {},
   "source": [
    "Por convención, las clases se nombran con mayúscula.\n",
    "\n",
    "Por ahora, nuestra clase no tiene ningun contenido. Podémos hacer que reciba argumentos cuando se instancia con la función especial __init__()\n",
    "\n",
    "Para crear una variable de instancia, usamos la sintáxis:\n",
    "    \n",
    "    self.id = id\n",
    "    \n",
    "Una variable de clase se ubica fuera de los métodos. Por convención, se pone antes del __init__."
   ]
  },
  {
   "cell_type": "code",
   "execution_count": 34,
   "metadata": {
    "collapsed": false
   },
   "outputs": [
    {
     "name": "stdout",
     "output_type": "stream",
     "text": [
      "Unej Emplo\n"
     ]
    }
   ],
   "source": [
    "class Ejemplo:\n",
    "    \n",
    "    intención = 'educar'\n",
    "    \n",
    "    def __init__(self, name):\n",
    "        self.name = name\n",
    "\n",
    "x = Ejemplo('Unej Emplo')\n",
    "print(x.name)"
   ]
  },
  {
   "cell_type": "raw",
   "metadata": {},
   "source": [
    "Otras funciones \"mágicas\" que podemos definir son __call__ o __str__. Ver más en\n",
    " \n",
    "http://www.python-course.eu/python3_magic_methods.php"
   ]
  },
  {
   "cell_type": "code",
   "execution_count": 36,
   "metadata": {
    "collapsed": false
   },
   "outputs": [
    {
     "name": "stdout",
     "output_type": "stream",
     "text": [
      "Hola! Mi nombre es Unej Emplo\n",
      "Hola! Mi nombre es Otto Ejemplo\n"
     ]
    },
    {
     "data": {
      "text/plain": [
       "('educar', 'educar')"
      ]
     },
     "execution_count": 36,
     "metadata": {},
     "output_type": "execute_result"
    }
   ],
   "source": [
    "class Ejemplo:\n",
    "    \n",
    "    intencion = 'educar'\n",
    "    \n",
    "    def __init__(self, name):\n",
    "        self.name = name\n",
    "        \n",
    "    def __str__(self):\n",
    "        return 'Hola! Mi nombre es {}'.format(self.name)\n",
    "\n",
    "x = Ejemplo('Unej Emplo')\n",
    "y = Ejemplo('Otto Ejemplo')\n",
    "print(x)\n",
    "print(y)\n",
    "x.intencion, y.intencion"
   ]
  },
  {
   "cell_type": "markdown",
   "metadata": {},
   "source": [
    "### Ejercicio"
   ]
  },
  {
   "cell_type": "raw",
   "metadata": {},
   "source": [
    "Creá una clase llamada Perro, que tenga una variable de clase \"especie\" y dos de instancia \"nombre\" y 'raza'.\n",
    "\n",
    "Ejemplo\n",
    "\n",
    "myperro = Perro('Puffy', 'caniche')"
   ]
  },
  {
   "cell_type": "markdown",
   "metadata": {},
   "source": [
    "### Métodos"
   ]
  },
  {
   "cell_type": "raw",
   "metadata": {},
   "source": [
    "Los métodos son funciones definidas en el cuerpo de una clase. Realizan operaciones con los atributos del objeto. Son centrales para la división de responsabilidades dentro de aplicaciones, y en el concepto de encapsulamiento del paradigma OO.\n",
    "\n",
    "Veamos este ejemplo:"
   ]
  },
  {
   "cell_type": "code",
   "execution_count": 41,
   "metadata": {
    "collapsed": false
   },
   "outputs": [
    {
     "name": "stdout",
     "output_type": "stream",
     "text": [
      "Radius is:  2\n",
      "Area is:  12.56\n"
     ]
    }
   ],
   "source": [
    "class Circle(object):\n",
    "    pi = 3.14\n",
    "\n",
    "    # La instancia recibe un radio, por default igual a 1\n",
    "    def __init__(self, radius=1):\n",
    "        self.radius = radius \n",
    "\n",
    "    # Este método calcula el área, nótese el self.\n",
    "    def area(self):\n",
    "        return self.radius * self.radius * Circle.pi\n",
    "\n",
    "    # Este método cambia el radio\n",
    "    def setRadius(self, radius):\n",
    "        self.radius = radius\n",
    "\n",
    "    # Este devuelve el radio\n",
    "    def getRadius(self):\n",
    "        return self.radius\n",
    "\n",
    "\n",
    "c = Circle()\n",
    "\n",
    "c.setRadius(2)\n",
    "\n",
    "print('Radius is: ' ,c.getRadius())\n",
    "print('Area is: ', c.area())"
   ]
  },
  {
   "cell_type": "markdown",
   "metadata": {},
   "source": [
    "### Herencia\n",
    "\n",
    "La herencia sirve para formar nuevas clases usando clases ya existentes. Las clases derivadas heredan los atributos de la clase base, pudiendo sobreescribir o extender la funcionalidad de las clases de base.\n"
   ]
  },
  {
   "cell_type": "code",
   "execution_count": 59,
   "metadata": {
    "collapsed": true
   },
   "outputs": [],
   "source": [
    "class Animal(object):\n",
    "    def __init__(self):\n",
    "        print('Animal creado')\n",
    "\n",
    "    def quienSoy(self):\n",
    "        print(\"Animal\")\n",
    "\n",
    "    def comer(self):\n",
    "        print(\"Comiendo\")\n",
    "\n",
    "\n",
    "class Perro(Animal):\n",
    "    def __init__(self):\n",
    "        super().__init__()    # o Animal.__init__()\n",
    "        print(\"Dog created\")\n",
    "\n",
    "    def quienSoy(self):\n",
    "        print(\"Dog\")\n",
    "\n",
    "    def ladrar(self):\n",
    "        print(\"Guau guau!\")"
   ]
  },
  {
   "cell_type": "code",
   "execution_count": 60,
   "metadata": {
    "collapsed": false
   },
   "outputs": [
    {
     "name": "stdout",
     "output_type": "stream",
     "text": [
      "Animal creado\n",
      "Dog created\n"
     ]
    }
   ],
   "source": [
    "puffy = Perro()"
   ]
  },
  {
   "cell_type": "code",
   "execution_count": 61,
   "metadata": {
    "collapsed": false,
    "scrolled": true
   },
   "outputs": [
    {
     "name": "stdout",
     "output_type": "stream",
     "text": [
      "Comiendo\n"
     ]
    }
   ],
   "source": [
    "puffy.comer()"
   ]
  },
  {
   "cell_type": "markdown",
   "metadata": {},
   "source": [
    "### Ejercicio\n",
    "\n",
    "Completá la clase para que, recibiendo dos tuplas de cordenadas (x1, y1), (x2, y2), devuelva con los métodos la distancia entre los puntos y la pendiente de la recta. "
   ]
  },
  {
   "cell_type": "code",
   "execution_count": 62,
   "metadata": {
    "collapsed": true
   },
   "outputs": [],
   "source": [
    "class Line(object):\n",
    "    \n",
    "    def __init__(self,coor1,coor2):\n",
    "        pass\n",
    "    \n",
    "    def distancia(self):\n",
    "        pass\n",
    "    \n",
    "    def pendiente(self):\n",
    "        pass"
   ]
  },
  {
   "cell_type": "code",
   "execution_count": null,
   "metadata": {
    "collapsed": true
   },
   "outputs": [],
   "source": []
  }
 ],
 "metadata": {
  "kernelspec": {
   "display_name": "Python [conda root]",
   "language": "python",
   "name": "conda-root-py"
  },
  "language_info": {
   "codemirror_mode": {
    "name": "ipython",
    "version": 3
   },
   "file_extension": ".py",
   "mimetype": "text/x-python",
   "name": "python",
   "nbconvert_exporter": "python",
   "pygments_lexer": "ipython3",
   "version": "3.5.2"
  }
 },
 "nbformat": 4,
 "nbformat_minor": 2
}
