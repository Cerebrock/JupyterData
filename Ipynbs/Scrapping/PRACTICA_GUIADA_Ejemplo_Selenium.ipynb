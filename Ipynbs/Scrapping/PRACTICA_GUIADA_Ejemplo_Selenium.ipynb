{
  "nbformat": 4,
  "nbformat_minor": 0,
  "metadata": {
    "colab": {
      "name": "PRACTICA_GUIADA_Ejemplo_Selenium.ipynb",
      "version": "0.3.2",
      "provenance": []
    },
    "kernelspec": {
      "display_name": "Python 3",
      "language": "python",
      "name": "python3"
    }
  },
  "cells": [
    {
      "metadata": {
        "id": "4LvT3qJlrGsg",
        "colab_type": "text"
      },
      "cell_type": "markdown",
      "source": [
        "## PRÁCTICA GUIADA SELENIUM\n",
        "\n",
        "En esta notebook demostraremos la capacidad de Selenium para manejar páginas con elementos dinámicos."
      ]
    },
    {
      "metadata": {
        "id": "pRcpDhKurGsk",
        "colab_type": "text"
      },
      "cell_type": "markdown",
      "source": [
        "### Iniciamos el driver"
      ]
    },
    {
      "metadata": {
        "id": "EZtrF0W5rGsp",
        "colab_type": "code",
        "outputId": "661feb0f-a8ab-4d75-a643-ae500e55c71b",
        "colab": {
          "base_uri": "https://localhost:8080/",
          "height": 370
        }
      },
      "cell_type": "code",
      "source": [
        "from selenium import webdriver\n",
        "import os\n",
        "from time import sleep\n",
        "from selenium.webdriver.common.keys import Keys\n",
        "from selenium.webdriver import ActionChains"
      ],
      "execution_count": 0,
      "outputs": [
        {
          "output_type": "error",
          "ename": "ModuleNotFoundError",
          "evalue": "ignored",
          "traceback": [
            "\u001b[0;31m---------------------------------------------------------------------------\u001b[0m",
            "\u001b[0;31mModuleNotFoundError\u001b[0m                       Traceback (most recent call last)",
            "\u001b[0;32m<ipython-input-1-cd6610eea5d1>\u001b[0m in \u001b[0;36m<module>\u001b[0;34m()\u001b[0m\n\u001b[0;32m----> 1\u001b[0;31m \u001b[0;32mfrom\u001b[0m \u001b[0mselenium\u001b[0m \u001b[0;32mimport\u001b[0m \u001b[0mwebdriver\u001b[0m\u001b[0;34m\u001b[0m\u001b[0m\n\u001b[0m\u001b[1;32m      2\u001b[0m \u001b[0;32mimport\u001b[0m \u001b[0mos\u001b[0m\u001b[0;34m\u001b[0m\u001b[0m\n\u001b[1;32m      3\u001b[0m \u001b[0;32mfrom\u001b[0m \u001b[0mtime\u001b[0m \u001b[0;32mimport\u001b[0m \u001b[0msleep\u001b[0m\u001b[0;34m\u001b[0m\u001b[0m\n\u001b[1;32m      4\u001b[0m \u001b[0;32mfrom\u001b[0m \u001b[0mselenium\u001b[0m\u001b[0;34m.\u001b[0m\u001b[0mwebdriver\u001b[0m\u001b[0;34m.\u001b[0m\u001b[0mcommon\u001b[0m\u001b[0;34m.\u001b[0m\u001b[0mkeys\u001b[0m \u001b[0;32mimport\u001b[0m \u001b[0mKeys\u001b[0m\u001b[0;34m\u001b[0m\u001b[0m\n\u001b[1;32m      5\u001b[0m \u001b[0;32mfrom\u001b[0m \u001b[0mselenium\u001b[0m\u001b[0;34m.\u001b[0m\u001b[0mwebdriver\u001b[0m \u001b[0;32mimport\u001b[0m \u001b[0mActionChains\u001b[0m\u001b[0;34m\u001b[0m\u001b[0m\n",
            "\u001b[0;31mModuleNotFoundError\u001b[0m: No module named 'selenium'",
            "",
            "\u001b[0;31m---------------------------------------------------------------------------\u001b[0;32m\nNOTE: If your import is failing due to a missing package, you can\nmanually install dependencies using either !pip or !apt.\n\nTo view examples of installing some common dependencies, click the\n\"Open Examples\" button below.\n\u001b[0;31m---------------------------------------------------------------------------\u001b[0m\n"
          ]
        }
      ]
    },
    {
      "metadata": {
        "id": "Hzc538_7rGs4",
        "colab_type": "code",
        "colab": {}
      },
      "cell_type": "code",
      "source": [
        "def init_chrome(headless = False):\n",
        "    print('Running Chrome.')\n",
        "    global webdriver\n",
        "    options = webdriver.ChromeOptions()\n",
        "    options.add_argument('--headless') if headless else None\n",
        "    options.add_argument('start-maximized')\n",
        "    driver = webdriver.Chrome(executable_path= os.getcwd() + '/chromedriver.exe', chrome_options= options)\n",
        "    \n",
        "    return driver"
      ],
      "execution_count": 0,
      "outputs": []
    },
    {
      "metadata": {
        "id": "7d6t-1yarGtD",
        "colab_type": "text"
      },
      "cell_type": "markdown",
      "source": [
        "### Iniciamos sesión en google"
      ]
    },
    {
      "metadata": {
        "id": "gzirORQurGtF",
        "colab_type": "code",
        "colab": {}
      },
      "cell_type": "code",
      "source": [
        "def google_log_in(usr, pasw, url = 'https://accounts.google.com/signin/v2/identifier?service=mail'):\n",
        "    '''Uses ´driver´ variable in global scope to log in to Google Services'''\n",
        "    global driver\n",
        "    driver.get(url)\n",
        "    driver.find_element_by_xpath(\"//input[@type = 'email']\").send_keys(usr)\n",
        "    sleep(2)\n",
        "    driver.find_element_by_xpath(\"//*[@id='identifierNext']\").click()\n",
        "    sleep(2)\n",
        "    driver.find_element_by_xpath(\"//input[@type = 'password']\").send_keys(pasw)\n",
        "    sleep(2)\n",
        "    driver.find_element_by_xpath(\"//*[@id='passwordNext']\").click()\n",
        "    sleep(4)"
      ],
      "execution_count": 0,
      "outputs": []
    },
    {
      "metadata": {
        "id": "7r1wGLJFrGtQ",
        "colab_type": "code",
        "colab": {}
      },
      "cell_type": "code",
      "source": [
        "def select_all_text(elem):\n",
        "    #para ejecutar cadenas de acciones\n",
        "    global driver, ac\n",
        "    \n",
        "    ac.send_keys(Keys.ESCAPE).move_to_element(elem).click(elem).pause(0.2).click(elem).perform()\n",
        "    sleep(0.2)\n",
        "    ac.key_down(Keys.CONTROL).send_keys('a').key_up(Keys.CONTROL).perform()\n",
        "    sleep(0.2)\n",
        "    #ES NECESARIO ESTE COMANDO\n",
        "    ac.reset_actions()"
      ],
      "execution_count": 0,
      "outputs": []
    },
    {
      "metadata": {
        "id": "4IoORWjFrGtY",
        "colab_type": "code",
        "colab": {}
      },
      "cell_type": "code",
      "source": [
        "def change_font(font = 'Raleway'):\n",
        "    global driver\n",
        "    font_elem = driver.find_element_by_xpath(\"//div[@data-tooltip = 'Fuente' or @data-tooltip = 'Font']\")\n",
        "    if font_elem.text.strip() != font:\n",
        "        font_elem.click()\n",
        "        sleep(0.2)\n",
        "        #clickea Raleway\n",
        "        driver.find_element_by_xpath(\"//span[@style = 'font-family: {}--Menu;']\".format(font)).click()\n",
        "        sleep(0.2)"
      ],
      "execution_count": 0,
      "outputs": []
    },
    {
      "metadata": {
        "id": "Rpa6t_wtrGti",
        "colab_type": "code",
        "colab": {}
      },
      "cell_type": "code",
      "source": [
        "def change_align():\n",
        "    global driver, ac\n",
        "    align_elem = driver.find_element_by_xpath(\"//div[@data-tooltip = 'Alinear']\")\n",
        "    align_elem.click()\n",
        "    \n",
        "    ac.move_by_offset(70, 20).pause(0.3).click().perform()\n",
        "    ac.reset_actions()\n",
        "    #driver.find_element_by_xpath(\"//div[@title = 'Justificar']\").click()"
      ],
      "execution_count": 0,
      "outputs": []
    },
    {
      "metadata": {
        "id": "zzZVLaC3rGts",
        "colab_type": "code",
        "colab": {}
      },
      "cell_type": "code",
      "source": [
        "def change_spacing():\n",
        "    global driver, ac\n",
        "    \n",
        "    spacing_elem = driver.find_element_by_xpath(\"//div[@data-tooltip = 'Interlineado']\")\n",
        "    spacing_elem.click()\n",
        "    sleep(0.2)\n",
        "    ac.send_keys(*[Keys.ARROW_DOWN]*3).pause(1).send_keys(Keys.ENTER).perform()\n",
        "    ac.reset_actions()"
      ],
      "execution_count": 0,
      "outputs": []
    },
    {
      "metadata": {
        "id": "_JgUihPgrGt3",
        "colab_type": "code",
        "colab": {}
      },
      "cell_type": "code",
      "source": [
        "def format_diapos():\n",
        "    global driver, ac\n",
        "    ac = ActionChains(driver)\n",
        "    \n",
        "    n_diap = 3\n",
        "    while 1:\n",
        "        #click slide\n",
        "        try:\n",
        "            driver.find_element_by_xpath(\"//*[contains(@class, 'punch-filmstrip-thumbnail-pagenumber') and text() = '{}']\".format(n_diap)).click()\n",
        "        except:\n",
        "            break\n",
        "        sleep(0.3)\n",
        "        \n",
        "        #encuentra elementos con texto \n",
        "        elems = driver.find_elements_by_xpath(\"//*[starts-with(@id, 'editor') and contains(@id, 'paragraph')]/.\")\n",
        "        \n",
        "        for elem in elems:\n",
        "            if not elem.is_displayed():\n",
        "                continue\n",
        "            try:\n",
        "                #esc para anular selecciona nterior\n",
        "                select_all_text(elem)\n",
        "                #change_font()\n",
        "                #change_align()\n",
        "                change_spacing()\n",
        "                #align_title\n",
        "            except Exception as e:\n",
        "                print(e)\n",
        "                pass\n",
        "        \n",
        "        n_diap += 1"
      ],
      "execution_count": 0,
      "outputs": []
    },
    {
      "metadata": {
        "id": "rRa3RCq8rGuB",
        "colab_type": "code",
        "outputId": "d11dd2f2-9c35-4b89-b584-fb2144f769ef",
        "colab": {}
      },
      "cell_type": "code",
      "source": [
        "usr = 'mgrinberg@digitalhouse.com'\n",
        "url = 'https://docs.google.com/presentation/d/1fkszoWZu5itncOeYcZvbxS8-bN7Ub2BFnVdzlwXJ1AU'\n",
        "from getpass import getpass\n",
        "pasw = getpass('Pass?')"
      ],
      "execution_count": 0,
      "outputs": [
        {
          "output_type": "stream",
          "text": [
            "Pass?········\n"
          ],
          "name": "stdout"
        }
      ]
    },
    {
      "metadata": {
        "id": "_DU_3aNarGuV",
        "colab_type": "code",
        "outputId": "faa6019f-e61b-4879-e8b8-72d99d9378e7",
        "colab": {}
      },
      "cell_type": "code",
      "source": [
        "driver = init_chrome()\n",
        "google_log_in(usr, pasw, url)\n",
        "format_diapos()"
      ],
      "execution_count": 0,
      "outputs": [
        {
          "output_type": "stream",
          "text": [
            "Running Chrome.\n"
          ],
          "name": "stdout"
        }
      ]
    },
    {
      "metadata": {
        "id": "qEdAQr9HrGuk",
        "colab_type": "code",
        "colab": {}
      },
      "cell_type": "code",
      "source": [
        ""
      ],
      "execution_count": 0,
      "outputs": []
    }
  ]
}