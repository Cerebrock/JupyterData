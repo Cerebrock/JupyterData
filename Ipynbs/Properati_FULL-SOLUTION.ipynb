{
 "cells": [
  {
   "cell_type": "markdown",
   "metadata": {
    "colab_type": "text",
    "id": "jUIxEqwBpvdM"
   },
   "source": [
    "### Properati"
   ]
  },
  {
   "cell_type": "markdown",
   "metadata": {
    "colab_type": "text",
    "id": "GEYbog18pvdT"
   },
   "source": [
    "El dataset contiene información al comienzo de 2018 de las propiedades comercializables por la empresa:\n",
    "\n",
    "* Fecha de creación\n",
    "* Tipo de la propiedad (house, apartment, ph)\n",
    "* Operación del aviso (sell, rent)\n",
    "* Nombre del lugar\n",
    "* Nombre del lugar + nombre de sus ‘padres’\n",
    "* ID de geonames del lugar (si está disponible)\n",
    "* Latitud,Longitud\n",
    "* Precio original del aviso\n",
    "* Moneda original del aviso (ARS, USD)\n",
    "* Precio del aviso en moneda local (ARS)\n",
    "* Precio aproximado en USD\n",
    "* Superficie en m²\n",
    "* Superficie cubierta en m²\n",
    "* Precio en USD/m²\n",
    "* Precio por m²\n",
    "* N° de piso, si corresponde\n",
    "* Ambientes\n",
    "* URL en Properati\n",
    "* Descripción\n",
    "* Título\n",
    "* URL de un thumbnail de la primer foto"
   ]
  },
  {
   "cell_type": "markdown",
   "metadata": {
    "colab_type": "text",
    "id": "CdX4RT-GpvdY"
   },
   "source": [
    "#### Descargamos los datos"
   ]
  },
  {
   "cell_type": "code",
   "execution_count": null,
   "metadata": {
    "colab": {},
    "colab_type": "code",
    "id": "uLptUTLNpvdb"
   },
   "outputs": [],
   "source": [
    "import pandas as pd\n",
    "import numpy as np"
   ]
  },
  {
   "cell_type": "code",
   "execution_count": 2,
   "metadata": {
    "colab": {
     "base_uri": "https://localhost:8080/",
     "height": 50
    },
    "colab_type": "code",
    "executionInfo": {
     "elapsed": 279884,
     "status": "ok",
     "timestamp": 1539931895201,
     "user": {
      "displayName": "Matias Grinberg",
      "photoUrl": "",
      "userId": "00077740590691160022"
     },
     "user_tz": 180
    },
    "id": "JxxgKj6zpvd5",
    "outputId": "44ff98de-7042-4e69-8aa0-50e8b7a2e034"
   },
   "outputs": [
    {
     "name": "stdout",
     "output_type": "stream",
     "text": [
      "CPU times: user 19 s, sys: 1.61 s, total: 20.6 s\n",
      "Wall time: 4min 38s\n"
     ]
    }
   ],
   "source": [
    "%%time\n",
    "# Descargo 4 meses de 2018\n",
    "url = 'https://www.properati.com.ar/static/data/AR/properati-AR-2018-0{}-01-properties-sell.csv'\n",
    "df = pd.concat((pd.read_csv(url.format(i)) for i in range(1,5)))"
   ]
  },
  {
   "cell_type": "code",
   "execution_count": 3,
   "metadata": {
    "colab": {
     "base_uri": "https://localhost:8080/",
     "height": 730
    },
    "colab_type": "code",
    "executionInfo": {
     "elapsed": 5120,
     "status": "ok",
     "timestamp": 1539931900424,
     "user": {
      "displayName": "Matias Grinberg",
      "photoUrl": "",
      "userId": "00077740590691160022"
     },
     "user_tz": 180
    },
    "id": "VFe8NUOTpveU",
    "outputId": "03a2787f-f38d-4e7d-c378-794cf93ff45f"
   },
   "outputs": [
    {
     "name": "stdout",
     "output_type": "stream",
     "text": [
      "(726873, 27)\n",
      "Index(['id', 'created_on', 'operation', 'property_type', 'place_name',\n",
      "       'place_with_parent_names', 'country_name', 'state_name', 'geonames_id',\n",
      "       'lat-lon', 'lat', 'lon', 'price', 'currency',\n",
      "       'price_aprox_local_currency', 'price_aprox_usd', 'surface_total_in_m2',\n",
      "       'surface_covered_in_m2', 'price_usd_per_m2', 'price_per_m2', 'floor',\n",
      "       'rooms', 'expenses', 'properati_url', 'description', 'title',\n",
      "       'image_thumbnail'],\n",
      "      dtype='object')\n"
     ]
    },
    {
     "data": {
      "text/html": [
       "<div>\n",
       "<style scoped>\n",
       "    .dataframe tbody tr th:only-of-type {\n",
       "        vertical-align: middle;\n",
       "    }\n",
       "\n",
       "    .dataframe tbody tr th {\n",
       "        vertical-align: top;\n",
       "    }\n",
       "\n",
       "    .dataframe thead th {\n",
       "        text-align: right;\n",
       "    }\n",
       "</style>\n",
       "<table border=\"1\" class=\"dataframe\">\n",
       "  <thead>\n",
       "    <tr style=\"text-align: right;\">\n",
       "      <th></th>\n",
       "      <th>id</th>\n",
       "      <th>created_on</th>\n",
       "      <th>operation</th>\n",
       "      <th>property_type</th>\n",
       "      <th>place_name</th>\n",
       "      <th>place_with_parent_names</th>\n",
       "      <th>country_name</th>\n",
       "      <th>state_name</th>\n",
       "      <th>geonames_id</th>\n",
       "      <th>lat-lon</th>\n",
       "      <th>...</th>\n",
       "      <th>surface_covered_in_m2</th>\n",
       "      <th>price_usd_per_m2</th>\n",
       "      <th>price_per_m2</th>\n",
       "      <th>floor</th>\n",
       "      <th>rooms</th>\n",
       "      <th>expenses</th>\n",
       "      <th>properati_url</th>\n",
       "      <th>description</th>\n",
       "      <th>title</th>\n",
       "      <th>image_thumbnail</th>\n",
       "    </tr>\n",
       "  </thead>\n",
       "  <tbody>\n",
       "    <tr>\n",
       "      <th>0</th>\n",
       "      <td>0de2467efb2476545515f109b506e084728ea6a2</td>\n",
       "      <td>2017-03-01</td>\n",
       "      <td>sell</td>\n",
       "      <td>house</td>\n",
       "      <td>Merlo</td>\n",
       "      <td>|Argentina|Bs.As. G.B.A. Zona Oeste|Merlo|</td>\n",
       "      <td>Argentina</td>\n",
       "      <td>Bs.As. G.B.A. Zona Oeste</td>\n",
       "      <td>3430696.0</td>\n",
       "      <td>-34.67561,-58.725101</td>\n",
       "      <td>...</td>\n",
       "      <td>NaN</td>\n",
       "      <td>3579.104478</td>\n",
       "      <td>NaN</td>\n",
       "      <td>NaN</td>\n",
       "      <td>NaN</td>\n",
       "      <td>NaN</td>\n",
       "      <td>https://www.properati.com.ar/16219_venta_casa_...</td>\n",
       "      <td>Esta Hermosa Casa en Palermo Soho ha sido comp...</td>\n",
       "      <td>Hermosa casa en el corazón de Palermo Soho con...</td>\n",
       "      <td>https://thumbs4.properati.com/2/fgnyoK0fxWVVSt...</td>\n",
       "    </tr>\n",
       "    <tr>\n",
       "      <th>1</th>\n",
       "      <td>cb23211cab9f6183df65c01f6be24bb48f4dca62</td>\n",
       "      <td>2016-09-20</td>\n",
       "      <td>sell</td>\n",
       "      <td>house</td>\n",
       "      <td>Pinamar</td>\n",
       "      <td>|Argentina|Buenos Aires Costa Atlántica|Pinamar|</td>\n",
       "      <td>Argentina</td>\n",
       "      <td>Buenos Aires Costa Atlántica</td>\n",
       "      <td>3429971.0</td>\n",
       "      <td>-37.1081928835,-56.8638181686</td>\n",
       "      <td>...</td>\n",
       "      <td>NaN</td>\n",
       "      <td>NaN</td>\n",
       "      <td>NaN</td>\n",
       "      <td>NaN</td>\n",
       "      <td>NaN</td>\n",
       "      <td>NaN</td>\n",
       "      <td>https://www.properati.com.ar/11ivz_venta_casa_...</td>\n",
       "      <td>VILLA FLORENCIA - UF 8Excelente Triplex de 4 a...</td>\n",
       "      <td>VILLA FLORENCIA - CATEGORICO DUPLEX EN VENTA</td>\n",
       "      <td>https://thumbs4.properati.com/9/HsivdwoTMfLmQs...</td>\n",
       "    </tr>\n",
       "    <tr>\n",
       "      <th>2</th>\n",
       "      <td>4f62d7c3f374570841ab10a3cbe6cca938e21484</td>\n",
       "      <td>2016-03-16</td>\n",
       "      <td>sell</td>\n",
       "      <td>house</td>\n",
       "      <td>Pinamar</td>\n",
       "      <td>|Argentina|Buenos Aires Costa Atlántica|Pinamar|</td>\n",
       "      <td>Argentina</td>\n",
       "      <td>Buenos Aires Costa Atlántica</td>\n",
       "      <td>3429971.0</td>\n",
       "      <td>-37.0916153921,-56.8460414663</td>\n",
       "      <td>...</td>\n",
       "      <td>NaN</td>\n",
       "      <td>380.228137</td>\n",
       "      <td>NaN</td>\n",
       "      <td>NaN</td>\n",
       "      <td>NaN</td>\n",
       "      <td>NaN</td>\n",
       "      <td>https://www.properati.com.ar/x8lk_venta_casa_p...</td>\n",
       "      <td>Living, comedor, amplia cocina, 2 dormitorios ...</td>\n",
       "      <td>EXCELENTE CASA EN VENTA, EN EXCLUSIVA ZONA DE ...</td>\n",
       "      <td>https://thumbs4.properati.com/1/uceBSr80OcW09k...</td>\n",
       "    </tr>\n",
       "    <tr>\n",
       "      <th>3</th>\n",
       "      <td>1649a3c35359d681abae4a63d9a8545054d2096b</td>\n",
       "      <td>2017-09-22</td>\n",
       "      <td>sell</td>\n",
       "      <td>house</td>\n",
       "      <td>Palermo Viejo</td>\n",
       "      <td>|Argentina|Capital Federal|Palermo|Palermo Viejo|</td>\n",
       "      <td>Argentina</td>\n",
       "      <td>Capital Federal</td>\n",
       "      <td>NaN</td>\n",
       "      <td>-34.5889531469,-58.4298817776</td>\n",
       "      <td>...</td>\n",
       "      <td>NaN</td>\n",
       "      <td>6410.256410</td>\n",
       "      <td>NaN</td>\n",
       "      <td>NaN</td>\n",
       "      <td>NaN</td>\n",
       "      <td>NaN</td>\n",
       "      <td>https://www.properati.com.ar/2os_venta_casa_pa...</td>\n",
       "      <td>Beautiful Florentine Style  house.Needs renova...</td>\n",
       "      <td>Beautiful Florentine Style house, ideal for Ho...</td>\n",
       "      <td>https://thumbs4.properati.com/8/JNr4sMiKencV51...</td>\n",
       "    </tr>\n",
       "    <tr>\n",
       "      <th>4</th>\n",
       "      <td>dee414c7198dd58137279f0afc56551481535cdc</td>\n",
       "      <td>2017-09-22</td>\n",
       "      <td>sell</td>\n",
       "      <td>apartment</td>\n",
       "      <td>Puerto Madero</td>\n",
       "      <td>|Argentina|Capital Federal|Puerto Madero|</td>\n",
       "      <td>Argentina</td>\n",
       "      <td>Capital Federal</td>\n",
       "      <td>3429760.0</td>\n",
       "      <td>-34.6098446,-58.3662387</td>\n",
       "      <td>...</td>\n",
       "      <td>NaN</td>\n",
       "      <td>NaN</td>\n",
       "      <td>NaN</td>\n",
       "      <td>NaN</td>\n",
       "      <td>NaN</td>\n",
       "      <td>NaN</td>\n",
       "      <td>https://www.properati.com.ar/2sx_venta_departa...</td>\n",
       "      <td>Excelente departamento de 3 ambientes con Vist...</td>\n",
       "      <td>Dock - 3 amb con excelente vista a Dique</td>\n",
       "      <td>https://thumbs4.properati.com/8/9zrfZYTNM3NOAI...</td>\n",
       "    </tr>\n",
       "  </tbody>\n",
       "</table>\n",
       "<p>5 rows × 27 columns</p>\n",
       "</div>"
      ],
      "text/plain": [
       "                                         id  created_on operation  \\\n",
       "0  0de2467efb2476545515f109b506e084728ea6a2  2017-03-01      sell   \n",
       "1  cb23211cab9f6183df65c01f6be24bb48f4dca62  2016-09-20      sell   \n",
       "2  4f62d7c3f374570841ab10a3cbe6cca938e21484  2016-03-16      sell   \n",
       "3  1649a3c35359d681abae4a63d9a8545054d2096b  2017-09-22      sell   \n",
       "4  dee414c7198dd58137279f0afc56551481535cdc  2017-09-22      sell   \n",
       "\n",
       "  property_type     place_name  \\\n",
       "0         house          Merlo   \n",
       "1         house        Pinamar   \n",
       "2         house        Pinamar   \n",
       "3         house  Palermo Viejo   \n",
       "4     apartment  Puerto Madero   \n",
       "\n",
       "                             place_with_parent_names country_name  \\\n",
       "0         |Argentina|Bs.As. G.B.A. Zona Oeste|Merlo|    Argentina   \n",
       "1   |Argentina|Buenos Aires Costa Atlántica|Pinamar|    Argentina   \n",
       "2   |Argentina|Buenos Aires Costa Atlántica|Pinamar|    Argentina   \n",
       "3  |Argentina|Capital Federal|Palermo|Palermo Viejo|    Argentina   \n",
       "4          |Argentina|Capital Federal|Puerto Madero|    Argentina   \n",
       "\n",
       "                     state_name  geonames_id                        lat-lon  \\\n",
       "0      Bs.As. G.B.A. Zona Oeste    3430696.0           -34.67561,-58.725101   \n",
       "1  Buenos Aires Costa Atlántica    3429971.0  -37.1081928835,-56.8638181686   \n",
       "2  Buenos Aires Costa Atlántica    3429971.0  -37.0916153921,-56.8460414663   \n",
       "3               Capital Federal          NaN  -34.5889531469,-58.4298817776   \n",
       "4               Capital Federal    3429760.0        -34.6098446,-58.3662387   \n",
       "\n",
       "                         ...                          surface_covered_in_m2  \\\n",
       "0                        ...                                            NaN   \n",
       "1                        ...                                            NaN   \n",
       "2                        ...                                            NaN   \n",
       "3                        ...                                            NaN   \n",
       "4                        ...                                            NaN   \n",
       "\n",
       "   price_usd_per_m2  price_per_m2 floor  rooms  expenses  \\\n",
       "0       3579.104478           NaN   NaN    NaN       NaN   \n",
       "1               NaN           NaN   NaN    NaN       NaN   \n",
       "2        380.228137           NaN   NaN    NaN       NaN   \n",
       "3       6410.256410           NaN   NaN    NaN       NaN   \n",
       "4               NaN           NaN   NaN    NaN       NaN   \n",
       "\n",
       "                                       properati_url  \\\n",
       "0  https://www.properati.com.ar/16219_venta_casa_...   \n",
       "1  https://www.properati.com.ar/11ivz_venta_casa_...   \n",
       "2  https://www.properati.com.ar/x8lk_venta_casa_p...   \n",
       "3  https://www.properati.com.ar/2os_venta_casa_pa...   \n",
       "4  https://www.properati.com.ar/2sx_venta_departa...   \n",
       "\n",
       "                                         description  \\\n",
       "0  Esta Hermosa Casa en Palermo Soho ha sido comp...   \n",
       "1  VILLA FLORENCIA - UF 8Excelente Triplex de 4 a...   \n",
       "2  Living, comedor, amplia cocina, 2 dormitorios ...   \n",
       "3  Beautiful Florentine Style  house.Needs renova...   \n",
       "4  Excelente departamento de 3 ambientes con Vist...   \n",
       "\n",
       "                                               title  \\\n",
       "0  Hermosa casa en el corazón de Palermo Soho con...   \n",
       "1       VILLA FLORENCIA - CATEGORICO DUPLEX EN VENTA   \n",
       "2  EXCELENTE CASA EN VENTA, EN EXCLUSIVA ZONA DE ...   \n",
       "3  Beautiful Florentine Style house, ideal for Ho...   \n",
       "4           Dock - 3 amb con excelente vista a Dique   \n",
       "\n",
       "                                     image_thumbnail  \n",
       "0  https://thumbs4.properati.com/2/fgnyoK0fxWVVSt...  \n",
       "1  https://thumbs4.properati.com/9/HsivdwoTMfLmQs...  \n",
       "2  https://thumbs4.properati.com/1/uceBSr80OcW09k...  \n",
       "3  https://thumbs4.properati.com/8/JNr4sMiKencV51...  \n",
       "4  https://thumbs4.properati.com/8/9zrfZYTNM3NOAI...  \n",
       "\n",
       "[5 rows x 27 columns]"
      ]
     },
     "execution_count": 3,
     "metadata": {
      "tags": []
     },
     "output_type": "execute_result"
    }
   ],
   "source": [
    "print(df.shape)\n",
    "print(df.columns)\n",
    "df.head()"
   ]
  },
  {
   "cell_type": "markdown",
   "metadata": {
    "colab_type": "text",
    "id": "x0cqsM0Xpve3"
   },
   "source": [
    "#### Limpieza y Feature Selection\n",
    "\n",
    "* Para predecir, vamos a usar las columnas 'surface_total_in_m2' ,  'surface_covered_in_m2' ,  'lat', 'lon' por un lado como data tabular, y la columna \"description\" como input de texto.\n",
    "* Nuestro target será \"price\". "
   ]
  },
  {
   "cell_type": "code",
   "execution_count": null,
   "metadata": {
    "colab": {},
    "colab_type": "code",
    "id": "773HOCWKvtHz"
   },
   "outputs": [],
   "source": [
    "df = df.drop_duplicates(subset=['id', 'lat-lon'])"
   ]
  },
  {
   "cell_type": "code",
   "execution_count": 5,
   "metadata": {
    "colab": {
     "base_uri": "https://localhost:8080/",
     "height": 50
    },
    "colab_type": "code",
    "executionInfo": {
     "elapsed": 1939,
     "status": "ok",
     "timestamp": 1539931905780,
     "user": {
      "displayName": "Matias Grinberg",
      "photoUrl": "",
      "userId": "00077740590691160022"
     },
     "user_tz": 180
    },
    "id": "BiuTxIQipve7",
    "outputId": "c40b3362-aa7c-490d-e915-ce411b82e20d"
   },
   "outputs": [
    {
     "data": {
      "text/plain": [
       "sell    274235\n",
       "Name: operation, dtype: int64"
      ]
     },
     "execution_count": 5,
     "metadata": {
      "tags": []
     },
     "output_type": "execute_result"
    }
   ],
   "source": [
    "# \"operation\" no aporta informacion\n",
    "df.operation.value_counts()"
   ]
  },
  {
   "cell_type": "code",
   "execution_count": null,
   "metadata": {
    "colab": {},
    "colab_type": "code",
    "id": "F3z-ATLRpvfW"
   },
   "outputs": [],
   "source": [
    "# Hay varias columnas relacionadas con el precio, hay que sacarlas para evitar data leak\n",
    "# Nos quedamos solo con \"price\" (usd)\n",
    "\n",
    "df = df.drop(['operation', 'lat-lon', 'price_per_m2', 'price_usd_per_m2', 'price_aprox_usd', \n",
    "              'price_aprox_local_currency'], axis = 1)"
   ]
  },
  {
   "cell_type": "code",
   "execution_count": null,
   "metadata": {
    "colab": {},
    "colab_type": "code",
    "id": "VzeDocJYpvfw"
   },
   "outputs": [],
   "source": [
    "# Para que la muestra sea más representativa generalizamos solo a Bs As\n",
    "\n",
    "df = df.loc[df['state_name'].isin(['Capital Federal', 'Bs.As. G.B.A. Zona Sur', 'Bs.As. G.B.A. Zona Norte', 'Bs.As. G.B.A. Zona Oeste']),:]"
   ]
  },
  {
   "cell_type": "code",
   "execution_count": 8,
   "metadata": {
    "colab": {
     "base_uri": "https://localhost:8080/",
     "height": 383
    },
    "colab_type": "code",
    "executionInfo": {
     "elapsed": 2482,
     "status": "ok",
     "timestamp": 1539931912883,
     "user": {
      "displayName": "Matias Grinberg",
      "photoUrl": "",
      "userId": "00077740590691160022"
     },
     "user_tz": 180
    },
    "id": "gl-OfHlqpvgO",
    "outputId": "041796e6-89e4-4f6a-ae73-70ff57db9f61"
   },
   "outputs": [
    {
     "data": {
      "text/plain": [
       "id                              0\n",
       "created_on                      0\n",
       "property_type                   0\n",
       "place_name                    101\n",
       "place_with_parent_names         0\n",
       "country_name                    0\n",
       "state_name                      0\n",
       "geonames_id                 43158\n",
       "lat                         35853\n",
       "lon                         35853\n",
       "price                       14246\n",
       "currency                    14249\n",
       "surface_total_in_m2         37401\n",
       "surface_covered_in_m2       23056\n",
       "floor                      164307\n",
       "rooms                       66126\n",
       "expenses                   161511\n",
       "properati_url                   0\n",
       "description                     3\n",
       "title                           0\n",
       "image_thumbnail              2149\n",
       "dtype: int64"
      ]
     },
     "execution_count": 8,
     "metadata": {
      "tags": []
     },
     "output_type": "execute_result"
    }
   ],
   "source": [
    "# Vemos nulos\n",
    "df.isnull().sum()"
   ]
  },
  {
   "cell_type": "code",
   "execution_count": 9,
   "metadata": {
    "colab": {
     "base_uri": "https://localhost:8080/",
     "height": 83
    },
    "colab_type": "code",
    "executionInfo": {
     "elapsed": 1505,
     "status": "ok",
     "timestamp": 1539931914577,
     "user": {
      "displayName": "Matias Grinberg",
      "photoUrl": "",
      "userId": "00077740590691160022"
     },
     "user_tz": 180
    },
    "id": "BJsdw_Y-pvgu",
    "outputId": "d3b41bd5-042a-4fba-cc35-e0f83ffdfb82"
   },
   "outputs": [
    {
     "data": {
      "text/plain": [
       "USD    161934\n",
       "ARS      4993\n",
       "PEN         2\n",
       "Name: currency, dtype: int64"
      ]
     },
     "execution_count": 9,
     "metadata": {
      "tags": []
     },
     "output_type": "execute_result"
    }
   ],
   "source": [
    "df.currency.value_counts()"
   ]
  },
  {
   "cell_type": "code",
   "execution_count": null,
   "metadata": {
    "colab": {},
    "colab_type": "code",
    "id": "q2VOzWuBCWya"
   },
   "outputs": [],
   "source": [
    "# Usamos solo los precios en USD\n",
    "df = df.loc[df['currency'] == 'USD']"
   ]
  },
  {
   "cell_type": "code",
   "execution_count": 11,
   "metadata": {
    "colab": {
     "base_uri": "https://localhost:8080/",
     "height": 287
    },
    "colab_type": "code",
    "executionInfo": {
     "elapsed": 1886,
     "status": "ok",
     "timestamp": 1539931917815,
     "user": {
      "displayName": "Matias Grinberg",
      "photoUrl": "",
      "userId": "00077740590691160022"
     },
     "user_tz": 180
    },
    "id": "5mgKon6eb_9z",
    "outputId": "37e322a2-0efd-4c30-bfed-1e203797e858"
   },
   "outputs": [
    {
     "data": {
      "text/html": [
       "<div>\n",
       "<style scoped>\n",
       "    .dataframe tbody tr th:only-of-type {\n",
       "        vertical-align: middle;\n",
       "    }\n",
       "\n",
       "    .dataframe tbody tr th {\n",
       "        vertical-align: top;\n",
       "    }\n",
       "\n",
       "    .dataframe thead th {\n",
       "        text-align: right;\n",
       "    }\n",
       "</style>\n",
       "<table border=\"1\" class=\"dataframe\">\n",
       "  <thead>\n",
       "    <tr style=\"text-align: right;\">\n",
       "      <th></th>\n",
       "      <th>geonames_id</th>\n",
       "      <th>lat</th>\n",
       "      <th>lon</th>\n",
       "      <th>price</th>\n",
       "      <th>surface_total_in_m2</th>\n",
       "      <th>surface_covered_in_m2</th>\n",
       "      <th>floor</th>\n",
       "      <th>rooms</th>\n",
       "      <th>expenses</th>\n",
       "    </tr>\n",
       "  </thead>\n",
       "  <tbody>\n",
       "    <tr>\n",
       "      <th>count</th>\n",
       "      <td>1.223380e+05</td>\n",
       "      <td>130072.000000</td>\n",
       "      <td>130072.000000</td>\n",
       "      <td>1.619340e+05</td>\n",
       "      <td>130965.000000</td>\n",
       "      <td>1.443970e+05</td>\n",
       "      <td>15652.000000</td>\n",
       "      <td>104474.000000</td>\n",
       "      <td>1.884300e+04</td>\n",
       "    </tr>\n",
       "    <tr>\n",
       "      <th>mean</th>\n",
       "      <td>3.498150e+06</td>\n",
       "      <td>-34.587454</td>\n",
       "      <td>-58.524294</td>\n",
       "      <td>2.973313e+05</td>\n",
       "      <td>291.661681</td>\n",
       "      <td>1.900303e+02</td>\n",
       "      <td>8.163813</td>\n",
       "      <td>3.097173</td>\n",
       "      <td>5.405193e+03</td>\n",
       "    </tr>\n",
       "    <tr>\n",
       "      <th>std</th>\n",
       "      <td>4.413296e+05</td>\n",
       "      <td>0.203682</td>\n",
       "      <td>0.285698</td>\n",
       "      <td>4.176873e+05</td>\n",
       "      <td>1755.366668</td>\n",
       "      <td>8.699317e+03</td>\n",
       "      <td>58.280443</td>\n",
       "      <td>1.580869</td>\n",
       "      <td>1.054622e+05</td>\n",
       "    </tr>\n",
       "    <tr>\n",
       "      <th>min</th>\n",
       "      <td>3.427208e+06</td>\n",
       "      <td>-41.135527</td>\n",
       "      <td>-71.352240</td>\n",
       "      <td>5.000000e+03</td>\n",
       "      <td>-2.000000</td>\n",
       "      <td>1.000000e+00</td>\n",
       "      <td>1.000000</td>\n",
       "      <td>1.000000</td>\n",
       "      <td>1.000000e+00</td>\n",
       "    </tr>\n",
       "    <tr>\n",
       "      <th>25%</th>\n",
       "      <td>3.429595e+06</td>\n",
       "      <td>-34.640273</td>\n",
       "      <td>-58.628716</td>\n",
       "      <td>1.150000e+05</td>\n",
       "      <td>57.000000</td>\n",
       "      <td>5.000000e+01</td>\n",
       "      <td>2.000000</td>\n",
       "      <td>2.000000</td>\n",
       "      <td>1.200000e+03</td>\n",
       "    </tr>\n",
       "    <tr>\n",
       "      <th>50%</th>\n",
       "      <td>3.430570e+06</td>\n",
       "      <td>-34.594557</td>\n",
       "      <td>-58.490490</td>\n",
       "      <td>1.850000e+05</td>\n",
       "      <td>111.000000</td>\n",
       "      <td>9.000000e+01</td>\n",
       "      <td>3.000000</td>\n",
       "      <td>3.000000</td>\n",
       "      <td>2.500000e+03</td>\n",
       "    </tr>\n",
       "    <tr>\n",
       "      <th>75%</th>\n",
       "      <td>3.435506e+06</td>\n",
       "      <td>-34.503677</td>\n",
       "      <td>-58.413423</td>\n",
       "      <td>3.400000e+05</td>\n",
       "      <td>255.000000</td>\n",
       "      <td>1.860000e+02</td>\n",
       "      <td>6.000000</td>\n",
       "      <td>4.000000</td>\n",
       "      <td>5.000000e+03</td>\n",
       "    </tr>\n",
       "    <tr>\n",
       "      <th>max</th>\n",
       "      <td>6.693230e+06</td>\n",
       "      <td>-26.861151</td>\n",
       "      <td>-56.160010</td>\n",
       "      <td>4.654544e+07</td>\n",
       "      <td>200000.000000</td>\n",
       "      <td>3.243242e+06</td>\n",
       "      <td>3485.000000</td>\n",
       "      <td>40.000000</td>\n",
       "      <td>1.000150e+07</td>\n",
       "    </tr>\n",
       "  </tbody>\n",
       "</table>\n",
       "</div>"
      ],
      "text/plain": [
       "        geonames_id            lat            lon         price  \\\n",
       "count  1.223380e+05  130072.000000  130072.000000  1.619340e+05   \n",
       "mean   3.498150e+06     -34.587454     -58.524294  2.973313e+05   \n",
       "std    4.413296e+05       0.203682       0.285698  4.176873e+05   \n",
       "min    3.427208e+06     -41.135527     -71.352240  5.000000e+03   \n",
       "25%    3.429595e+06     -34.640273     -58.628716  1.150000e+05   \n",
       "50%    3.430570e+06     -34.594557     -58.490490  1.850000e+05   \n",
       "75%    3.435506e+06     -34.503677     -58.413423  3.400000e+05   \n",
       "max    6.693230e+06     -26.861151     -56.160010  4.654544e+07   \n",
       "\n",
       "       surface_total_in_m2  surface_covered_in_m2         floor  \\\n",
       "count        130965.000000           1.443970e+05  15652.000000   \n",
       "mean            291.661681           1.900303e+02      8.163813   \n",
       "std            1755.366668           8.699317e+03     58.280443   \n",
       "min              -2.000000           1.000000e+00      1.000000   \n",
       "25%              57.000000           5.000000e+01      2.000000   \n",
       "50%             111.000000           9.000000e+01      3.000000   \n",
       "75%             255.000000           1.860000e+02      6.000000   \n",
       "max          200000.000000           3.243242e+06   3485.000000   \n",
       "\n",
       "               rooms      expenses  \n",
       "count  104474.000000  1.884300e+04  \n",
       "mean        3.097173  5.405193e+03  \n",
       "std         1.580869  1.054622e+05  \n",
       "min         1.000000  1.000000e+00  \n",
       "25%         2.000000  1.200000e+03  \n",
       "50%         3.000000  2.500000e+03  \n",
       "75%         4.000000  5.000000e+03  \n",
       "max        40.000000  1.000150e+07  "
      ]
     },
     "execution_count": 11,
     "metadata": {
      "tags": []
     },
     "output_type": "execute_result"
    }
   ],
   "source": [
    "df.describe()"
   ]
  },
  {
   "cell_type": "code",
   "execution_count": null,
   "metadata": {
    "colab": {},
    "colab_type": "code",
    "id": "eYZANwU2aaYU"
   },
   "outputs": [],
   "source": [
    "df = df.reset_index(drop=True)"
   ]
  },
  {
   "cell_type": "code",
   "execution_count": null,
   "metadata": {
    "colab": {},
    "colab_type": "code",
    "id": "tonwswHVDTqJ"
   },
   "outputs": [],
   "source": [
    "# Cortamos outliers por percentil en todas las columnas numericas, y normalizamos\n",
    "\n",
    "top_q, bottom_q = 0.998, 0.002\n",
    "df.loc[:, df.dtypes == np.number] = df.loc[:, df.dtypes == np.number]\n",
    "      .apply(lambda x, top, bottom: x[(x.quantile(bottom) < x) & (x.quantile(top) > x)], args = (top_q, bottom_q))\n",
    "      .apply(lambda x: (x - x.mean()) / x.std())"
   ]
  },
  {
   "cell_type": "code",
   "execution_count": null,
   "metadata": {
    "colab": {},
    "colab_type": "code",
    "id": "vgevgPsirxoc"
   },
   "outputs": [],
   "source": [
    "cols = ['surface_total_in_m2', 'surface_covered_in_m2', 'lat','lon', 'price', 'description', 'title']\n",
    "\n",
    "# Columnas a usar \n",
    "df = df.loc[:, cols]\n",
    "df = df.sample(frac=1.)\n",
    "df = df.dropna()"
   ]
  },
  {
   "cell_type": "code",
   "execution_count": null,
   "metadata": {
    "colab": {},
    "colab_type": "code",
    "id": "-ACXwOlzBbE5"
   },
   "outputs": [],
   "source": [
    "y = df.loc[:, 'price'].values\n",
    "X_num = df.loc[:, ['surface_total_in_m2', 'surface_covered_in_m2', 'lat','lon']].values\n",
    "txts = (df['title'] + ' ' + df['description']).str.lower().replace('^\\w', ' ')"
   ]
  },
  {
   "cell_type": "code",
   "execution_count": 16,
   "metadata": {
    "colab": {
     "base_uri": "https://localhost:8080/",
     "height": 50
    },
    "colab_type": "code",
    "executionInfo": {
     "elapsed": 1416,
     "status": "ok",
     "timestamp": 1539931926235,
     "user": {
      "displayName": "Matias Grinberg",
      "photoUrl": "",
      "userId": "00077740590691160022"
     },
     "user_tz": 180
    },
    "id": "OHKZbCl-z-UA",
    "outputId": "ca3a9db6-dff8-4950-9af6-c3494b5b68b9"
   },
   "outputs": [
    {
     "name": "stdout",
     "output_type": "stream",
     "text": [
      "Media del target (USD): 0.0029852623477787652\n",
      "Std del target (USD): 0.9876834898076582\n"
     ]
    }
   ],
   "source": [
    "print('Media del target (USD):', np.mean(y))\n",
    "print('Std del target (USD):', np.std(y))\n",
    "\n",
    "y = (y - np.mean(y)) / np.std(y)"
   ]
  },
  {
   "cell_type": "markdown",
   "metadata": {
    "colab_type": "text",
    "id": "1Mk9gbm1ZoKj"
   },
   "source": [
    "## Preprocesamiento"
   ]
  },
  {
   "cell_type": "code",
   "execution_count": 17,
   "metadata": {
    "colab": {
     "base_uri": "https://localhost:8080/",
     "height": 50
    },
    "colab_type": "code",
    "executionInfo": {
     "elapsed": 2454,
     "status": "ok",
     "timestamp": 1539931928832,
     "user": {
      "displayName": "Matias Grinberg",
      "photoUrl": "",
      "userId": "00077740590691160022"
     },
     "user_tz": 180
    },
    "id": "EHtpxhGncrt1",
    "outputId": "176b992a-8b7a-41e2-ae56-9a9274227d51"
   },
   "outputs": [
    {
     "name": "stdout",
     "output_type": "stream",
     "text": [
      "[nltk_data] Downloading package stopwords to /root/nltk_data...\n",
      "[nltk_data]   Unzipping corpora/stopwords.zip.\n"
     ]
    }
   ],
   "source": [
    "import nltk\n",
    "from nltk.corpus import stopwords\n",
    "nltk.download('stopwords')\n",
    "stopwords = stopwords.words('spanish')"
   ]
  },
  {
   "cell_type": "code",
   "execution_count": 18,
   "metadata": {
    "colab": {
     "base_uri": "https://localhost:8080/",
     "height": 100
    },
    "colab_type": "code",
    "executionInfo": {
     "elapsed": 7516,
     "status": "ok",
     "timestamp": 1539931936425,
     "user": {
      "displayName": "Matias Grinberg",
      "photoUrl": "",
      "userId": "00077740590691160022"
     },
     "user_tz": 180
    },
    "id": "Hq7mJ00YFQCb",
    "outputId": "f368b7ed-0a2b-42ea-9ee6-f142f220a9a6"
   },
   "outputs": [
    {
     "name": "stdout",
     "output_type": "stream",
     "text": [
      "Collecting unidecode\n",
      "\u001b[?25l  Downloading https://files.pythonhosted.org/packages/59/ef/67085e30e8bbcdd76e2f0a4ad8151c13a2c5bce77c85f8cad6e1f16fb141/Unidecode-1.0.22-py2.py3-none-any.whl (235kB)\n",
      "\u001b[K    100% |████████████████████████████████| 235kB 15.3MB/s \n",
      "\u001b[?25hInstalling collected packages: unidecode\n",
      "Successfully installed unidecode-1.0.22\n"
     ]
    }
   ],
   "source": [
    "!pip install unidecode"
   ]
  },
  {
   "cell_type": "code",
   "execution_count": 19,
   "metadata": {
    "colab": {
     "base_uri": "https://localhost:8080/",
     "height": 50
    },
    "colab_type": "code",
    "executionInfo": {
     "elapsed": 42478,
     "status": "ok",
     "timestamp": 1539931978990,
     "user": {
      "displayName": "Matias Grinberg",
      "photoUrl": "",
      "userId": "00077740590691160022"
     },
     "user_tz": 180
    },
    "id": "ijP8Cuekcs-U",
    "outputId": "36bec4fe-0f1b-4ce3-973f-cc6aa98b6267"
   },
   "outputs": [
    {
     "name": "stdout",
     "output_type": "stream",
     "text": [
      "CPU times: user 40.9 s, sys: 39.2 ms, total: 40.9 s\n",
      "Wall time: 41 s\n"
     ]
    }
   ],
   "source": [
    "%%time\n",
    "from re import findall\n",
    "import unidecode \n",
    "txts = txts.apply(lambda x: ' '.join(unidecode.unidecode(w) for w in findall('[a-z]+', x) if w not in stopwords))"
   ]
  },
  {
   "cell_type": "code",
   "execution_count": 20,
   "metadata": {
    "colab": {
     "base_uri": "https://localhost:8080/",
     "height": 33
    },
    "colab_type": "code",
    "executionInfo": {
     "elapsed": 3203,
     "status": "ok",
     "timestamp": 1539931982223,
     "user": {
      "displayName": "Matias Grinberg",
      "photoUrl": "",
      "userId": "00077740590691160022"
     },
     "user_tz": 180
    },
    "id": "FGiaBjcxGIMV",
    "outputId": "03d76126-2dda-41f3-d860-6befd38a7af4"
   },
   "outputs": [
    {
     "data": {
      "text/plain": [
       "75524"
      ]
     },
     "execution_count": 20,
     "metadata": {
      "tags": []
     },
     "output_type": "execute_result"
    }
   ],
   "source": [
    "#??? \n",
    "len(set([s_ for s in txts.values for s_ in s.split(' ')]))"
   ]
  },
  {
   "cell_type": "code",
   "execution_count": 21,
   "metadata": {
    "colab": {
     "base_uri": "https://localhost:8080/",
     "height": 346
    },
    "colab_type": "code",
    "executionInfo": {
     "elapsed": 3040,
     "status": "ok",
     "timestamp": 1539931985321,
     "user": {
      "displayName": "Matias Grinberg",
      "photoUrl": "",
      "userId": "00077740590691160022"
     },
     "user_tz": 180
    },
    "id": "OPC8WYumFtW_",
    "outputId": "32a26bf0-3ad6-412e-a787-7631ed88725e"
   },
   "outputs": [
    {
     "data": {
      "image/png": "[encoded data removed]",
      "text/plain": [
       "<matplotlib.figure.Figure at 0x7fe48142f710>"
      ]
     },
     "metadata": {
      "tags": []
     },
     "output_type": "display_data"
    }
   ],
   "source": [
    "import seaborn as sns\n",
    "import matplotlib.pyplot as plt\n",
    "\n",
    "arr = txts.apply(lambda x: len(x.split(' ')))\n",
    "sns.distplot(arr, bins = 100)\n",
    "plt.xlim([0, 1000]);"
   ]
  },
  {
   "cell_type": "code",
   "execution_count": 22,
   "metadata": {
    "colab": {
     "base_uri": "https://localhost:8080/",
     "height": 33
    },
    "colab_type": "code",
    "executionInfo": {
     "elapsed": 2808,
     "status": "ok",
     "timestamp": 1539931988208,
     "user": {
      "displayName": "Matias Grinberg",
      "photoUrl": "",
      "userId": "00077740590691160022"
     },
     "user_tz": 180
    },
    "id": "1D0_oGG2pvic",
    "outputId": "145710ec-7b0d-4344-f19e-cc1e831e5560"
   },
   "outputs": [
    {
     "name": "stderr",
     "output_type": "stream",
     "text": [
      "Using TensorFlow backend.\n"
     ]
    }
   ],
   "source": [
    "from keras.preprocessing.text import Tokenizer\n",
    "from keras.preprocessing.sequence import pad_sequences\n",
    "\n",
    "max_len = 190\n",
    "max_words = 10000"
   ]
  },
  {
   "cell_type": "code",
   "execution_count": 23,
   "metadata": {
    "colab": {
     "base_uri": "https://localhost:8080/",
     "height": 66
    },
    "colab_type": "code",
    "executionInfo": {
     "elapsed": 14246,
     "status": "ok",
     "timestamp": 1539932002582,
     "user": {
      "displayName": "Matias Grinberg",
      "photoUrl": "",
      "userId": "00077740590691160022"
     },
     "user_tz": 180
    },
    "id": "ZTvKZUk9pvi9",
    "outputId": "68cbbe3c-3bdc-470a-881c-f7aced2aeae2"
   },
   "outputs": [
    {
     "name": "stdout",
     "output_type": "stream",
     "text": [
      "Tenemos 75524 palabras\n",
      "CPU times: user 13.2 s, sys: 83.8 ms, total: 13.3 s\n",
      "Wall time: 13.3 s\n"
     ]
    }
   ],
   "source": [
    "%%time\n",
    "tokenizer = Tokenizer(num_words=max_words, filters='!\"#$%&()*+,-/:;<=>?@[\\\\]^_`{|}~\\t\\n', )\n",
    "tokenizer.fit_on_texts(txts)\n",
    "sequences = tokenizer.texts_to_sequences(txts)\n",
    "\n",
    "word_index = tokenizer.word_index\n",
    "print('Tenemos %d palabras' % len(word_index))\n",
    "\n",
    "X_txt = pad_sequences(sequences, maxlen=max_len)"
   ]
  },
  {
   "cell_type": "code",
   "execution_count": null,
   "metadata": {
    "colab": {},
    "colab_type": "code",
    "id": "Nqu7qyRMb2ly"
   },
   "outputs": [],
   "source": [
    "n = y.shape[0]\n",
    "train, test, val = 0.8, 0.12, 0.08\n",
    "(X_num_train, X_txt_train, y_train), (X_num_test, X_txt_test, y_test), (X_num_val, X_txt_val, y_val) =[(X_num[ix], X_txt[ix], y[ix]) for ix in np.split(np.random.permutation(n), [int(train * n), int((train + test) * n)])]"
   ]
  },
  {
   "cell_type": "code",
   "execution_count": 25,
   "metadata": {
    "colab": {
     "base_uri": "https://localhost:8080/",
     "height": 166
    },
    "colab_type": "code",
    "executionInfo": {
     "elapsed": 1338,
     "status": "ok",
     "timestamp": 1539932005131,
     "user": {
      "displayName": "Matias Grinberg",
      "photoUrl": "",
      "userId": "00077740590691160022"
     },
     "user_tz": 180
    },
    "id": "6N0RJ92ba94B",
    "outputId": "99eb9404-eb79-4052-beee-7cc4d6911238"
   },
   "outputs": [
    {
     "data": {
      "text/plain": [
       "((79854, 4),\n",
       " (11978, 4),\n",
       " (7986, 4),\n",
       " (79854, 190),\n",
       " (11978, 190),\n",
       " (7986, 190),\n",
       " (79854,),\n",
       " (11978,),\n",
       " (7986,))"
      ]
     },
     "execution_count": 25,
     "metadata": {
      "tags": []
     },
     "output_type": "execute_result"
    }
   ],
   "source": [
    "X_num_train.shape, X_num_test.shape, X_num_val.shape, X_txt_train.shape, X_txt_test.shape, X_txt_val.shape, y_train.shape, y_test.shape, y_val.shape"
   ]
  },
  {
   "cell_type": "markdown",
   "metadata": {
    "colab_type": "text",
    "id": "AC7wV_fpZ0T5"
   },
   "source": [
    "## Machine Learning\n",
    "### Tensorboard\n"
   ]
  },
  {
   "cell_type": "code",
   "execution_count": 26,
   "metadata": {
    "colab": {
     "base_uri": "https://localhost:8080/",
     "height": 66
    },
    "colab_type": "code",
    "executionInfo": {
     "elapsed": 11176,
     "status": "ok",
     "timestamp": 1539932016458,
     "user": {
      "displayName": "Matias Grinberg",
      "photoUrl": "",
      "userId": "00077740590691160022"
     },
     "user_tz": 180
    },
    "id": "as2sB5nDfu71",
    "outputId": "d6ef8b97-3e91-45f1-ff15-878831c7a0d9"
   },
   "outputs": [
    {
     "name": "stdout",
     "output_type": "stream",
     "text": [
      "\u001b[K\u001b[?25h/tools/node/bin/lt -> /tools/node/lib/node_modules/localtunnel/bin/client\n",
      "+ localtunnel@1.9.1\n",
      "added 54 packages from 31 contributors in 2.547s\n"
     ]
    }
   ],
   "source": [
    "# Creamos el tunel para conectarse a la consola:\n",
    "# https://github.com/localtunnel/localtunnel\n",
    "! npm install -g localtunnel\n",
    "# Tunnel port 6006 (TensorBoard ya corriendo)\n",
    "get_ipython().system_raw('lt --port 6006 >> url.txt 2>&1 &')\n",
    "# Tomar url\n",
    "! cat url.txt"
   ]
  },
  {
   "cell_type": "code",
   "execution_count": null,
   "metadata": {
    "colab": {},
    "colab_type": "code",
    "id": "u_-8m93Hf5ic"
   },
   "outputs": [],
   "source": [
    "log_path = '/tmp/log'\n",
    "get_ipython().system_raw(\n",
    "   'tensorboard --logdir {} --host 0.0.0.0 --port 6006 &'\n",
    "   .format(log_path)\n",
    ")"
   ]
  },
  {
   "cell_type": "markdown",
   "metadata": {
    "colab_type": "text",
    "id": "f4DOfil1uS3l"
   },
   "source": [
    "### Utils"
   ]
  },
  {
   "cell_type": "code",
   "execution_count": null,
   "metadata": {
    "colab": {},
    "colab_type": "code",
    "id": "bZP-2nYbw_dO"
   },
   "outputs": [],
   "source": [
    "# Definimos una métrica custom, el R2 o coefficiente de determinación\n",
    "# https://es.wikipedia.org/wiki/Coeficiente_de_determinaci%C3%B3n\n",
    "\n",
    "from tensorflow.keras import backend as K\n",
    "\n",
    "def coeff_determination(y_true, y_pred):\n",
    "    SS_res =  K.sum(K.square( y_true-y_pred )) \n",
    "    SS_tot = K.sum(K.square( y_true - K.mean(y_true) ) ) \n",
    "    return ( 1 - SS_res/(SS_tot + K.epsilon()) )"
   ]
  },
  {
   "cell_type": "code",
   "execution_count": null,
   "metadata": {
    "colab": {},
    "colab_type": "code",
    "id": "gr_oRwaNpvlD"
   },
   "outputs": [],
   "source": [
    "%matplotlib inline\n",
    "import matplotlib.pyplot as plt\n",
    "def plot_hist(history):\n",
    "  plt.subplot(121)\n",
    "  plt.plot(history.history['mean_absolute_error'])\n",
    "  plt.plot(history.history['val_mean_absolute_error'])\n",
    "  plt.title('model MSE')\n",
    "  plt.ylabel('MSE')\n",
    "  plt.xlabel('epoch')\n",
    "  plt.legend(['train', 'test'], loc='upper left')\n",
    "  plt.ylim((0, 2))\n",
    "  plt.subplot(122)\n",
    "  plt.plot(history.history['loss'])\n",
    "  plt.plot(history.history['val_loss'])\n",
    "  plt.title('model loss')\n",
    "  plt.ylabel('loss')\n",
    "  plt.xlabel('epoch')\n",
    "  plt.legend(['train', 'test'], loc='upper left')\n",
    "  plt.ylim((0, 2))\n",
    "  plt.show()"
   ]
  },
  {
   "cell_type": "markdown",
   "metadata": {
    "colab_type": "text",
    "id": "ndxwZkEvuXLz"
   },
   "source": [
    "### Transfer Learning"
   ]
  },
  {
   "cell_type": "code",
   "execution_count": 31,
   "metadata": {
    "colab": {
     "base_uri": "https://localhost:8080/",
     "height": 366
    },
    "colab_type": "code",
    "executionInfo": {
     "elapsed": 136897,
     "status": "ok",
     "timestamp": 1539932167453,
     "user": {
      "displayName": "Matias Grinberg",
      "photoUrl": "",
      "userId": "00077740590691160022"
     },
     "user_tz": 180
    },
    "id": "RyNY1wX4F7jp",
    "outputId": "041e44ce-b52d-4599-f955-93be435ad882"
   },
   "outputs": [
    {
     "name": "stdout",
     "output_type": "stream",
     "text": [
      "--2018-10-19 06:53:53--  http://dcc.uchile.cl/~jperez/word-embeddings/fasttext-sbwc.3.6.e20.vec.gz\n",
      "Resolving dcc.uchile.cl (dcc.uchile.cl)... 192.80.24.4\n",
      "Connecting to dcc.uchile.cl (dcc.uchile.cl)|192.80.24.4|:80... connected.\n",
      "HTTP request sent, awaiting response... 301 Moved Permanently\n",
      "Location: https://www.dcc.uchile.cl/~jperez/word-embeddings/fasttext-sbwc.3.6.e20.vec.gz [following]\n",
      "--2018-10-19 06:53:54--  https://www.dcc.uchile.cl/~jperez/word-embeddings/fasttext-sbwc.3.6.e20.vec.gz\n",
      "Resolving www.dcc.uchile.cl (www.dcc.uchile.cl)... 192.80.24.4\n",
      "Connecting to www.dcc.uchile.cl (www.dcc.uchile.cl)|192.80.24.4|:443... connected.\n",
      "HTTP request sent, awaiting response... 302 Found\n",
      "Location: https://users.dcc.uchile.cl/~jperez/word-embeddings/fasttext-sbwc.3.6.e20.vec.gz [following]\n",
      "--2018-10-19 06:53:55--  https://users.dcc.uchile.cl/~jperez/word-embeddings/fasttext-sbwc.3.6.e20.vec.gz\n",
      "Resolving users.dcc.uchile.cl (users.dcc.uchile.cl)... 192.80.24.4\n",
      "Connecting to users.dcc.uchile.cl (users.dcc.uchile.cl)|192.80.24.4|:443... connected.\n",
      "HTTP request sent, awaiting response... 200 OK\n",
      "Length: 840060406 (801M) [application/x-gzip]\n",
      "Saving to: ‘fasttext-sbwc.3.6.e20.vec.gz’\n",
      "\n",
      "fasttext-sbwc.3.6.e 100%[===================>] 801.14M  7.87MB/s    in 2m 10s  \n",
      "\n",
      "2018-10-19 06:56:06 (6.16 MB/s) - ‘fasttext-sbwc.3.6.e20.vec.gz’ saved [840060406/840060406]\n",
      "\n"
     ]
    }
   ],
   "source": [
    "# ~2 min\n",
    "# Bajamos embeddings fasttext preentrenados\n",
    "!wget http://dcc.uchile.cl/~jperez/word-embeddings/fasttext-sbwc.3.6.e20.vec.gz\n",
    "!yes n | gunzip fasttext-sbwc.3.6.e20.vec.gz"
   ]
  },
  {
   "cell_type": "code",
   "execution_count": 33,
   "metadata": {
    "colab": {
     "base_uri": "https://localhost:8080/",
     "height": 66
    },
    "colab_type": "code",
    "executionInfo": {
     "elapsed": 66512,
     "status": "ok",
     "timestamp": 1539932260802,
     "user": {
      "displayName": "Matias Grinberg",
      "photoUrl": "",
      "userId": "00077740590691160022"
     },
     "user_tz": 180
    },
    "id": "leKcXDbWF61_",
    "outputId": "3b0a9a12-ff0e-4706-c214-8765cbcee731"
   },
   "outputs": [
    {
     "name": "stdout",
     "output_type": "stream",
     "text": [
      "Found 855381 word vectors.\n",
      "CPU times: user 1min 2s, sys: 1.83 s, total: 1min 4s\n",
      "Wall time: 1min 4s\n"
     ]
    }
   ],
   "source": [
    "%%time\n",
    "import os\n",
    "\n",
    "# Leemos los embeddings y armamos un diccionario\n",
    "\n",
    "embedding_dim = 300\n",
    "\n",
    "emb_dir = os.getcwd()\n",
    "\n",
    "embeddings_index = {}\n",
    "f = open(os.path.join(emb_dir, 'fasttext-sbwc.3.6.e20.vec'))\n",
    "for line in f:\n",
    "    values = line.split()\n",
    "    word = values[0]\n",
    "    coefs = np.asarray(values[1:], dtype='float32')\n",
    "    embeddings_index[word] = coefs\n",
    "f.close()\n",
    "\n",
    "print('Found %s word vectors.' % len(embeddings_index))"
   ]
  },
  {
   "cell_type": "code",
   "execution_count": null,
   "metadata": {
    "colab": {},
    "colab_type": "code",
    "id": "ycqSawSnLKJ2"
   },
   "outputs": [],
   "source": [
    "# Volcamos el diccionario en un numpy array para usar con nuestro modelo\n",
    "\n",
    "embedding_matrix = np.zeros((max_words, embedding_dim))\n",
    "for word, i in word_index.items():\n",
    "    embedding_vector = embeddings_index.get(word)\n",
    "    if i < max_words:\n",
    "        if embedding_vector is not None:\n",
    "            # Las palabras no encontradas en el índice serán todos ceros\n",
    "            embedding_matrix[i] = embedding_vector"
   ]
  },
  {
   "cell_type": "markdown",
   "metadata": {
    "colab_type": "text",
    "id": "-vd5o2uSuIE4"
   },
   "source": [
    "#### Callbacks"
   ]
  },
  {
   "cell_type": "code",
   "execution_count": 27,
   "metadata": {
    "colab": {
     "base_uri": "https://localhost:8080/",
     "height": 453
    },
    "colab_type": "code",
    "executionInfo": {
     "elapsed": 8727,
     "status": "ok",
     "timestamp": 1539932025252,
     "user": {
      "displayName": "Matias Grinberg",
      "photoUrl": "",
      "userId": "00077740590691160022"
     },
     "user_tz": 180
    },
    "id": "h8EU1CzFiYkY",
    "outputId": "2465fabe-7bde-4b6c-bcec-0c047d5745e9"
   },
   "outputs": [
    {
     "name": "stdout",
     "output_type": "stream",
     "text": [
      "Collecting python-telegram-bot\n",
      "\u001b[?25l  Downloading https://files.pythonhosted.org/packages/84/6c/47932a4041ee76650ad1f45a80e1422077e1e99c08a4d7a61cfbe5393d41/python_telegram_bot-11.1.0-py2.py3-none-any.whl (326kB)\n",
      "\u001b[K    100% |████████████████████████████████| 327kB 23.4MB/s \n",
      "\u001b[?25hRequirement already satisfied: certifi in /usr/local/lib/python3.6/dist-packages (from python-telegram-bot) (2018.10.15)\n",
      "Requirement already satisfied: future>=0.16.0 in /usr/local/lib/python3.6/dist-packages (from python-telegram-bot) (0.16.0)\n",
      "Collecting cryptography (from python-telegram-bot)\n",
      "\u001b[?25l  Downloading https://files.pythonhosted.org/packages/59/32/92cade62c645756a83598edf56289e9b19aae5370642a7ce690cd06bc72f/cryptography-2.3.1-cp34-abi3-manylinux1_x86_64.whl (2.1MB)\n",
      "\u001b[K    100% |████████████████████████████████| 2.1MB 13.9MB/s \n",
      "\u001b[?25hCollecting cffi!=1.11.3,>=1.7 (from cryptography->python-telegram-bot)\n",
      "\u001b[?25l  Downloading https://files.pythonhosted.org/packages/6d/c0/47db8f624f3e4e2f3f27be03a93379d1ba16a1450a7b1aacfa0366e2c0dd/cffi-1.11.5-cp36-cp36m-manylinux1_x86_64.whl (421kB)\n",
      "\u001b[K    100% |████████████████████████████████| 430kB 26.6MB/s \n",
      "\u001b[?25hCollecting asn1crypto>=0.21.0 (from cryptography->python-telegram-bot)\n",
      "\u001b[?25l  Downloading https://files.pythonhosted.org/packages/ea/cd/35485615f45f30a510576f1a56d1e0a7ad7bd8ab5ed7cdc600ef7cd06222/asn1crypto-0.24.0-py2.py3-none-any.whl (101kB)\n",
      "\u001b[K    100% |████████████████████████████████| 102kB 30.1MB/s \n",
      "\u001b[?25hRequirement already satisfied: idna>=2.1 in /usr/local/lib/python3.6/dist-packages (from cryptography->python-telegram-bot) (2.6)\n",
      "Requirement already satisfied: six>=1.4.1 in /usr/local/lib/python3.6/dist-packages (from cryptography->python-telegram-bot) (1.11.0)\n",
      "Collecting pycparser (from cffi!=1.11.3,>=1.7->cryptography->python-telegram-bot)\n",
      "\u001b[?25l  Downloading https://files.pythonhosted.org/packages/68/9e/49196946aee219aead1290e00d1e7fdeab8567783e83e1b9ab5585e6206a/pycparser-2.19.tar.gz (158kB)\n",
      "\u001b[K    100% |████████████████████████████████| 163kB 31.9MB/s \n",
      "\u001b[?25hBuilding wheels for collected packages: pycparser\n",
      "  Running setup.py bdist_wheel for pycparser ... \u001b[?25ldone\n",
      "\u001b[?25h  Stored in directory: /root/.cache/pip/wheels/f2/9a/90/de94f8556265ddc9d9c8b271b0f63e57b26fb1d67a45564511\n",
      "Successfully built pycparser\n",
      "Installing collected packages: pycparser, cffi, asn1crypto, cryptography, python-telegram-bot\n",
      "Successfully installed asn1crypto-0.24.0 cffi-1.11.5 cryptography-2.3.1 pycparser-2.19 python-telegram-bot-11.1.0\n"
     ]
    }
   ],
   "source": [
    "!pip install python-telegram-bot"
   ]
  },
  {
   "cell_type": "code",
   "execution_count": null,
   "metadata": {
    "colab": {},
    "colab_type": "code",
    "id": "7b6l0Ihpl-6G"
   },
   "outputs": [],
   "source": [
    "# Config de telegram\n",
    "config= {\n",
    "    'token': '',   # bot token\n",
    "    'telegram_id': 0,                                   # telegram_id\n",
    "}"
   ]
  },
  {
   "cell_type": "code",
   "execution_count": 36,
   "metadata": {
    "colab": {
     "base_uri": "https://localhost:8080/",
     "height": 83
    },
    "colab_type": "code",
    "executionInfo": {
     "elapsed": 10718,
     "status": "ok",
     "timestamp": 1539932278522,
     "user": {
      "displayName": "Matias Grinberg",
      "photoUrl": "",
      "userId": "00077740590691160022"
     },
     "user_tz": 180
    },
    "id": "GeYgVTUAb451",
    "outputId": "262260e6-50c3-4d16-e1ef-a991309b2f9b"
   },
   "outputs": [
    {
     "name": "stdout",
     "output_type": "stream",
     "text": [
      "Cloning into 'keras_telegram_callback'...\n",
      "remote: Enumerating objects: 28, done.\u001b[K\n",
      "remote: Total 28 (delta 0), reused 0 (delta 0), pack-reused 28\u001b[K\n",
      "Unpacking objects: 100% (28/28), done.\n"
     ]
    }
   ],
   "source": [
    "!git clone https://github.com/qubvel/keras_telegram_callback.git\n",
    "!cd keras_telegram_callback"
   ]
  },
  {
   "cell_type": "code",
   "execution_count": null,
   "metadata": {
    "colab": {},
    "colab_type": "code",
    "id": "SNA4fkkxeGvT"
   },
   "outputs": [],
   "source": [
    "from keras_telegram_callback.callbacks import TelegramCallback\n",
    "from tensorflow.keras.callbacks import EarlyStopping, TensorBoard, ReduceLROnPlateau, ModelCheckpoint, Callback\n",
    "from tensorflow.keras import backend as K"
   ]
  },
  {
   "cell_type": "code",
   "execution_count": null,
   "metadata": {
    "colab": {},
    "colab_type": "code",
    "id": "TJtWLfk5XV2X"
   },
   "outputs": [],
   "source": [
    "class TelegramCallbackVerbose(TelegramCallback):\n",
    "  def on_train_begin(self, logs={}):\n",
    "        text = 'Start training model {}, {}.'.format(CODE, str(params_))\n",
    "        self.send_message(text)\n",
    "  def on_epoch_end(self, epoch, logs={}):\n",
    "        text = 'Code {}. Epoch {}.\\n'.format(CODE, epoch)\n",
    "        for k, v in logs.items():\n",
    "            text += '{}: {:.4f}; '.format(k, v)\n",
    "        self.send_message(text)"
   ]
  },
  {
   "cell_type": "code",
   "execution_count": null,
   "metadata": {
    "colab": {},
    "colab_type": "code",
    "id": "uGotu0iMSz8X"
   },
   "outputs": [],
   "source": [
    "class PrintLRCallback(Callback) :\n",
    "    def on_epoch_begin(self, epoch, logs=None):\n",
    "        lr = float(K.get_value(self.model.optimizer.lr))\n",
    "        print(\" epoch={:02d}, lr={:.5f}\".format( epoch, lr))"
   ]
  },
  {
   "cell_type": "code",
   "execution_count": null,
   "metadata": {
    "colab": {},
    "colab_type": "code",
    "id": "OkNhAjVSOlTc"
   },
   "outputs": [],
   "source": [
    "import requests as rq\n",
    "\n",
    "# Declaramos el callback para SGD con restarts\n",
    "url_sgdr = 'https://gist.github.com/jeremyjordan/5a222e04bb78c242f5763ad40626c452/raw/1c2ade91682976896d84a2d42f69dcd5798f5f56/sgdr.py'\n",
    "exec(rq.get(url_sgdr).text)\n",
    "\n",
    "# No funciona\n",
    "# Declaramos el optimizador AdamW\n",
    "#url_adamw = 'https://github.com/shaoanlu/AdamW-and-SGDW/raw/master/AdamW.py'\n",
    "#exec(rq.get(url_adamw).text)\n"
   ]
  },
  {
   "cell_type": "code",
   "execution_count": null,
   "metadata": {
    "colab": {},
    "colab_type": "code",
    "id": "EgXPMkL0pvkG"
   },
   "outputs": [],
   "source": [
    "from tensorflow.keras.models import Sequential, Model\n",
    "from tensorflow.keras.layers import Input, Dense, Flatten, Embedding, Dropout, Concatenate, BatchNormalization, GRU, LSTM, TimeDistributed\n",
    "from tensorflow.keras import regularizers\n",
    "\n",
    "\n",
    "def make_model(X_train, y_train, X_val, y_val, params):\n",
    "    global CODE\n",
    "    CODE = np.random.randint(0,1000000)\n",
    "        \n",
    "    tab_model = Sequential()\n",
    "    tab_model.add(Dense(params['dense1_n'], input_shape = (4,), activation = params['dense1_act']))\n",
    "    tab_model.add(Dropout(params['dense1_drop']))\n",
    "    tab_model.add(Dense(params['dense2_n'], activation = params['dense2_act'], name='dense2'))\n",
    "    tab_model.add(Dropout(params['dense2_drop']))\n",
    "\n",
    "    if params['deep_input'] == True:\n",
    "      tab_model.add(Dense(params['dense2_n'], activation = params['dense2_act']))\n",
    "      tab_model.add(Dropout(params['dense2_drop']))\n",
    "\n",
    "    tab_inp = Input(shape=(4, ), name = 'tab')\n",
    "    tab_out = tab_model(tab_inp)\n",
    "        \n",
    "    txt_inp = Input(shape=(max_len,), name = 'txt')\n",
    "    \n",
    "    emb = Embedding(input_dim = max_words, output_dim=embedding_dim, input_length=max_len, name = 'emb')(txt_inp)\n",
    "    \n",
    "    x0_ = LSTM(params['lstm1_n'], return_sequences=True)(emb)\n",
    "    x0 = Dropout(params['lstm1_drop'])(x0_)\n",
    "    x0 = LSTM(params['lstm2_n'], return_sequences= params['deep_lstm'])(x0)\n",
    "    x0 = Dropout(params['lstm2_drop'])(x0)\n",
    "    \n",
    "    if params['deep_lstm'] == True:\n",
    "      x0 = LSTM(params['lstm3_n'])(x0)\n",
    "      x0 = Dropout(params['lstm3_drop'])(x0)\n",
    "\n",
    "    x1 = Flatten()(emb)\n",
    "    x1 = Dense(params['dense3_n'], activation = params['dense3_act'])(x1)\n",
    "    x1 = Dropout(params['dense3_drop'])(x1)\n",
    "\n",
    "    if params['deep'] == True:\n",
    "      x1 = Dense(params['dense4_n'], params['dense4_act'])(x1)\n",
    "      x1 = Dropout(params['dense4_drop'])(x1)\n",
    "\n",
    "    x = Concatenate(axis=-1)([x0, x1])\n",
    "    \n",
    "    if params['deep'] == True:\n",
    "      x = Dense(params['dense5_n'], params['dense5_act'])(x)\n",
    "      x = Dropout(params['dense5_drop'])(x)\n",
    "    \n",
    "    txt_out = Dense(params['dense6_n'], params['dense6_act'])(x)\n",
    "     \n",
    "    if params['residual']:\n",
    "      conc = Concatenate(axis=-1)([tab_out, txt_out, x0])\n",
    "    else:\n",
    "      conc = Concatenate(axis=-1)([tab_out, txt_out])\n",
    "    \n",
    "    x = Dense(params['dense8_n'], params['dense8_act'])(conc)\n",
    "    x = Dropout(params['dense8_drop'])(x)\n",
    "\n",
    "    if params['deep_output'] == True:\n",
    "      x = Dense(params['dense9_n'], params['dense9_act'])(x)\n",
    "      x = Dropout(params['dense9_drop'])(x)\n",
    "  \n",
    "    pred = Dense(1, activation='linear')(x)\n",
    "    \n",
    "    model = Model(inputs=[tab_inp, txt_inp], outputs=[pred])\n",
    "    \n",
    "    print_lr = PrintLRCallback()\n",
    "    tel = TelegramCallbackVerbose(config)\n",
    "    reduce_lr = ReduceLROnPlateau(monitor='val_loss', factor=0.2, patience=2, min_lr=0.00005, verbose=1)\n",
    "    early = EarlyStopping(monitor='val_loss', patience=5, verbose=1)\n",
    "    tensorb = TensorBoard(log_dir= log_path)\n",
    "    check = ModelCheckpoint('modelcheck{}.h5'.format(CODE), verbose=1, save_best_only=True)\n",
    "    sgdr = SGDRScheduler(min_lr=1e-5,\n",
    "                                     max_lr=1e-2,\n",
    "                                     steps_per_epoch=156)\n",
    "                \n",
    "    model.get_layer('emb').set_weights([embedding_matrix])\n",
    "    model.get_layer('emb').trainable = False\n",
    "    model.compile(optimizer= params['optimizer'](lr=params['lr'], amsgrad=params['amsgrad'], epsilon = params['epsilon']),\n",
    "              loss=params['loss'],\n",
    "              metrics=['mae', coeff_determination])\n",
    "       \n",
    "    history = model.fit([X_train[0], X_train[1]], y_train,\n",
    "            epochs=params['epochs'],\n",
    "            batch_size=params['batch'],\n",
    "            validation_data= ([X_val[0], X_val[1]], y_test),\n",
    "            callbacks = [tel, reduce_lr, early, tensorb, check, print_lr, sgdr]\n",
    "                       )\n",
    "    tel.bot.send_document(document=open('modelcheck{}.h5'.format(CODE), 'rb'), chat_id=119657272)\n",
    "    \n",
    "    return model, history"
   ]
  },
  {
   "cell_type": "code",
   "execution_count": null,
   "metadata": {
    "colab": {},
    "colab_type": "code",
    "id": "6uWEJGQwtm6z"
   },
   "outputs": [],
   "source": [
    "X_train = [X_num_train, X_txt_train]\n",
    "X_test = [X_num_test, X_txt_test]"
   ]
  },
  {
   "cell_type": "code",
   "execution_count": null,
   "metadata": {
    "colab": {},
    "colab_type": "code",
    "id": "2m9v2akBTA9z"
   },
   "outputs": [],
   "source": [
    "# Random Search\n",
    "from tensorflow.keras.optimizers import SGD, Adam"
   ]
  },
  {
   "cell_type": "code",
   "execution_count": null,
   "metadata": {
    "colab": {},
    "colab_type": "code",
    "id": "vGXIZs9PrLDJ"
   },
   "outputs": [],
   "source": [
    "params = {'batch': [128, 256, 512],\n",
    " 'deep': [0, 1],\n",
    " 'deep_input': [0, 1],\n",
    " 'deep_lstm': [0, 1],\n",
    " 'residual': [0, 1],\n",
    " 'deep_output': [0, 1],\n",
    " 'dense1_act': 'tanh',\n",
    " 'dense1_drop': (0, 0.5, 5),\n",
    " 'dense1_n': [32, 64, 96],\n",
    " 'dense2_act': 'relu',\n",
    " 'dense2_drop': (0.1, 0.4, 5),\n",
    " 'dense2_n': 32,\n",
    " 'dense3_act': 'tanh',\n",
    " 'dense3_drop': (0.1, 0.6, 6),\n",
    " 'dense3_n': [8,16,32],\n",
    " 'dense4_act': 'relu',\n",
    " 'dense4_drop': 0.03333333333333333,\n",
    " 'dense4_n': [32, 64, 96],\n",
    " 'dense5_act': 'tanh',\n",
    " 'dense5_drop': 0.1,\n",
    " 'dense5_n': [32, 64, 96],\n",
    " 'dense6_act': 'relu',\n",
    " 'dense6_drop': (0, 0.3, 6),\n",
    " 'dense6_n': 32,\n",
    " 'dense7_act': 'tanh',\n",
    " 'dense7_drop': 0.03333333333333333,\n",
    " 'dense7_n': 32,\n",
    " 'dense8_act': ['relu', 'tanh'],\n",
    " 'dense8_drop': 0,\n",
    " 'dense8_n': [32, 64, 96],\n",
    " 'dense8_act': ['relu', 'tanh'],\n",
    " 'dense8_drop': 0,\n",
    " 'dense8_n': [32, 64, 96],\n",
    " 'dense9_act': ['relu', 'tanh'],\n",
    " 'dense9_drop': 0,\n",
    " 'dense9_n': [32, 64, 96],\n",
    " 'epochs': 18,\n",
    " 'kernel_regularizer': 0.,\n",
    " 'loss': 'mse',\n",
    " 'lstm1_drop': 0.2,\n",
    " 'lstm1_n': [8,16,32],\n",
    " 'lstm2_drop': 0.03333333333333333,\n",
    " 'lstm2_n': [8,16,32],\n",
    " 'lstm3_drop': 0.06666666666666667,\n",
    " 'lstm3_n': [4,8,16],\n",
    " 'max_val_coeff': 0.8245,\n",
    " 'min_val_loss': 0.1692,\n",
    "  'epsilon' : 1e-08,\n",
    "  'amsgrad': [True, False],\n",
    "  'lr': [0.1, 0.01, 0.005, 0.002, 0.001, 0.0005],\n",
    " 'optimizer': [Adam]}"
   ]
  },
  {
   "cell_type": "code",
   "execution_count": null,
   "metadata": {
    "colab": {},
    "colab_type": "code",
    "id": "R_XqT-wNZOQ5"
   },
   "outputs": [],
   "source": [
    "scores = []\n",
    "for i in range(1, 100):\n",
    "  params_ = {}\n",
    "  for k in params:\n",
    "    if type(params[k]) == tuple:\n",
    "      params_[k] = np.random.choice(np.linspace(*params[k]))\n",
    "    elif type(params[k]) == list:\n",
    "      params_[k] = np.random.choice(params[k])\n",
    "    else:\n",
    "      params_[k] = params[k]\n",
    "  model, history = make_model(X_train = X_train, y_train = y_train, X_val = X_test, y_val= y_test, params=params_)\n",
    "  scores.append((history, params_))"
   ]
  }
 ],
 "metadata": {
  "accelerator": "GPU",
  "colab": {
   "collapsed_sections": [],
   "name": "Properati_FULL-SOLUTION.ipynb",
   "provenance": [],
   "version": "0.3.2"
  },
  "kernelspec": {
   "display_name": "Python 3",
   "language": "python",
   "name": "python3"
  },
  "language_info": {
   "codemirror_mode": {
    "name": "ipython",
    "version": 3
   },
   "file_extension": ".py",
   "mimetype": "text/x-python",
   "name": "python",
   "nbconvert_exporter": "python",
   "pygments_lexer": "ipython3",
   "version": "3.7.1"
  }
 },
 "nbformat": 4,
 "nbformat_minor": 2
}
